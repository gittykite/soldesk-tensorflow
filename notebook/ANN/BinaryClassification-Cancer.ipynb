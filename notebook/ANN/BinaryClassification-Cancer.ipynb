{
 "cells": [
  {
   "cell_type": "code",
   "execution_count": 1,
   "metadata": {},
   "outputs": [
    {
     "name": "stdout",
     "output_type": "stream",
     "text": [
      "2.0.0\n"
     ]
    }
   ],
   "source": [
    "import numpy as np\n",
    "import pandas as pd\n",
    "import tensorflow as tf\n",
    "import matplotlib.pyplot as plt\n",
    "\n",
    "# tensorflow 2.0\n",
    "from tensorflow.keras.models import load_model  \n",
    "from tensorflow.keras.models import Sequential \n",
    "from tensorflow.keras.layers import Dense       \n",
    "from tensorflow.keras.callbacks import EarlyStopping\n",
    "from tensorflow.keras import regularizers \n",
    "\n",
    "# sklearn => useful for pre-process\n",
    "from sklearn.preprocessing import LabelEncoder\n",
    "from sklearn.model_selection import train_test_split\n",
    "from sklearn.model_selection import StratifiedKFold\n",
    "\n",
    "print(tf.__version__)"
   ]
  },
  {
   "cell_type": "code",
   "execution_count": 2,
   "metadata": {},
   "outputs": [
    {
     "name": "stdout",
     "output_type": "stream",
     "text": [
      "<class 'pandas.core.frame.DataFrame'>\n",
      "    0   1     2     3   4   5   6   7   8   9   10  11  12  13  14  15  16  17\n",
      "0  293   1  3.80  2.80   0   0   0   0   0   0  12   0   0   0   1   0  62   0\n",
      "1    1   2  2.88  2.16   1   0   0   0   1   1  14   0   0   0   1   0  60   0\n",
      "2    8   2  3.19  2.50   1   0   0   0   1   0  11   0   0   1   1   0  66   1\n",
      "3   14   2  3.98  3.06   2   0   0   0   1   1  14   0   0   0   1   0  80   1\n",
      "4   17   2  2.21  1.88   0   0   1   0   0   0  12   0   0   0   1   0  56   0\n",
      "<class 'pandas.core.frame.DataFrame'>\n",
      "RangeIndex: 470 entries, 0 to 469\n",
      "Data columns (total 18 columns):\n",
      "0     470 non-null int64\n",
      "1     470 non-null int64\n",
      "2     470 non-null float64\n",
      "3     470 non-null float64\n",
      "4     470 non-null int64\n",
      "5     470 non-null int64\n",
      "6     470 non-null int64\n",
      "7     470 non-null int64\n",
      "8     470 non-null int64\n",
      "9     470 non-null int64\n",
      "10    470 non-null int64\n",
      "11    470 non-null int64\n",
      "12    470 non-null int64\n",
      "13    470 non-null int64\n",
      "14    470 non-null int64\n",
      "15    470 non-null int64\n",
      "16    470 non-null int64\n",
      "17    470 non-null int64\n",
      "dtypes: float64(2), int64(16)\n",
      "memory usage: 66.2 KB\n",
      "None\n",
      "<class 'numpy.ndarray'>\n",
      "(470, 18)\n",
      "(470, 17)\n",
      "(470,)\n"
     ]
    }
   ],
   "source": [
    "# Read CSV file\n",
    "df = pd.read_csv('./CancerSurvival_1.csv', header=None)\n",
    "print(type(df))\n",
    "print(df.head(5))\n",
    "print(df.info())\n",
    "\n",
    "data = np.loadtxt('./CancerSurvival_1.csv', delimiter=\",\")\n",
    "print(type(data))\n",
    "print(data.shape)\n",
    "\n",
    "# Type conversion: float => numpy.float64\n",
    "X = data[:, 0:17].astype(float)  \n",
    "Y = data[:, 17]\n",
    "\n",
    "print(X.shape)\n",
    "print(Y.shape)"
   ]
  },
  {
   "cell_type": "code",
   "execution_count": 3,
   "metadata": {},
   "outputs": [
    {
     "name": "stdout",
     "output_type": "stream",
     "text": [
      "[0. 0. 0. 1. 0. 0. 0. 0. 0. 0. 0. 1. 0. 0. 0. 0. 0. 0. 0. 1. 0. 0. 0. 0.\n",
      " 0. 0. 0. 0. 0. 1. 0. 1. 0. 0. 0. 0. 0. 0. 0. 0. 1. 0. 0.]\n",
      "(43,)\n"
     ]
    }
   ],
   "source": [
    "seed = 0\n",
    "\n",
    "# split data => test 90%, validation 10%\n",
    "x_train_all, x_test, y_train_all, y_test = train_test_split(X, Y,\n",
    "                                                            stratify=Y,\n",
    "                                                            test_size=0.1,\n",
    "                                                            random_state=seed)\n",
    "# split test data(85%) => test 90%, validation 10%\n",
    "x_train, x_val, y_train, y_val = train_test_split(x_train_all, y_train_all,\n",
    "                                                  stratify=y_train_all,\n",
    "                                                  test_size=0.1,\n",
    "                                                  random_state=seed)\n",
    "print(y_val)\n",
    "print(y_val.shape) "
   ]
  },
  {
   "cell_type": "code",
   "execution_count": 4,
   "metadata": {},
   "outputs": [
    {
     "name": "stdout",
     "output_type": "stream",
     "text": [
      "Train on 380 samples, validate on 43 samples\n",
      "Epoch 1/1000\n",
      "380/380 [==============================] - 1s 3ms/sample - loss: 1.2109 - accuracy: 0.8079 - val_loss: 0.9136 - val_accuracy: 0.8605\n",
      "Epoch 2/1000\n",
      "380/380 [==============================] - 0s 340us/sample - loss: 0.9597 - accuracy: 0.8263 - val_loss: 1.3127 - val_accuracy: 0.8605\n",
      "Epoch 3/1000\n",
      "380/380 [==============================] - 0s 289us/sample - loss: 0.8181 - accuracy: 0.8263 - val_loss: 0.7307 - val_accuracy: 0.8372\n",
      "Epoch 4/1000\n",
      "380/380 [==============================] - 0s 305us/sample - loss: 0.8356 - accuracy: 0.8316 - val_loss: 0.8736 - val_accuracy: 0.8605\n",
      "Epoch 5/1000\n",
      "380/380 [==============================] - 0s 351us/sample - loss: 0.8156 - accuracy: 0.8184 - val_loss: 0.8518 - val_accuracy: 0.8605\n",
      "Epoch 6/1000\n",
      "380/380 [==============================] - 0s 336us/sample - loss: 0.7617 - accuracy: 0.8500 - val_loss: 0.7346 - val_accuracy: 0.8605\n",
      "Epoch 7/1000\n",
      "380/380 [==============================] - 0s 316us/sample - loss: 0.6993 - accuracy: 0.8500 - val_loss: 0.6596 - val_accuracy: 0.8605\n",
      "Epoch 8/1000\n",
      "380/380 [==============================] - 0s 322us/sample - loss: 0.7200 - accuracy: 0.8368 - val_loss: 0.7340 - val_accuracy: 0.8605\n",
      "Epoch 9/1000\n",
      "380/380 [==============================] - 0s 292us/sample - loss: 0.6713 - accuracy: 0.8474 - val_loss: 0.6684 - val_accuracy: 0.8605\n",
      "Epoch 10/1000\n",
      "380/380 [==============================] - 0s 329us/sample - loss: 0.7255 - accuracy: 0.8316 - val_loss: 0.6587 - val_accuracy: 0.8605\n",
      "Epoch 11/1000\n",
      "380/380 [==============================] - 0s 311us/sample - loss: 0.6752 - accuracy: 0.8474 - val_loss: 0.7610 - val_accuracy: 0.8605\n",
      "Epoch 12/1000\n",
      "380/380 [==============================] - 0s 332us/sample - loss: 0.6636 - accuracy: 0.8500 - val_loss: 0.6415 - val_accuracy: 0.8605\n",
      "Epoch 13/1000\n",
      "380/380 [==============================] - 0s 303us/sample - loss: 0.6539 - accuracy: 0.8500 - val_loss: 0.8380 - val_accuracy: 0.8605\n",
      "Epoch 14/1000\n",
      "380/380 [==============================] - 0s 308us/sample - loss: 0.6648 - accuracy: 0.8500 - val_loss: 0.7685 - val_accuracy: 0.8605\n",
      "Epoch 15/1000\n",
      "380/380 [==============================] - 0s 308us/sample - loss: 0.6443 - accuracy: 0.8474 - val_loss: 0.6337 - val_accuracy: 0.8605\n",
      "Epoch 16/1000\n",
      "380/380 [==============================] - 0s 308us/sample - loss: 0.6455 - accuracy: 0.8500 - val_loss: 0.6260 - val_accuracy: 0.8605\n",
      "Epoch 17/1000\n",
      "380/380 [==============================] - 0s 339us/sample - loss: 0.6618 - accuracy: 0.8500 - val_loss: 0.6713 - val_accuracy: 0.8605\n",
      "Epoch 18/1000\n",
      "380/380 [==============================] - 0s 308us/sample - loss: 0.6425 - accuracy: 0.8500 - val_loss: 0.6322 - val_accuracy: 0.8605\n",
      "Epoch 19/1000\n",
      "380/380 [==============================] - 0s 313us/sample - loss: 0.6261 - accuracy: 0.8500 - val_loss: 0.8045 - val_accuracy: 0.8605\n",
      "Epoch 20/1000\n",
      "380/380 [==============================] - 0s 318us/sample - loss: 0.6472 - accuracy: 0.8474 - val_loss: 0.6089 - val_accuracy: 0.8605\n",
      "Epoch 21/1000\n",
      "380/380 [==============================] - 0s 337us/sample - loss: 0.6118 - accuracy: 0.8500 - val_loss: 0.6154 - val_accuracy: 0.8605\n",
      "Epoch 22/1000\n",
      "380/380 [==============================] - 0s 311us/sample - loss: 0.5933 - accuracy: 0.8500 - val_loss: 0.6573 - val_accuracy: 0.8605\n",
      "Epoch 23/1000\n",
      "380/380 [==============================] - 0s 308us/sample - loss: 0.6096 - accuracy: 0.8500 - val_loss: 0.6042 - val_accuracy: 0.8605\n",
      "Epoch 24/1000\n",
      "380/380 [==============================] - 0s 308us/sample - loss: 0.6111 - accuracy: 0.8500 - val_loss: 0.7291 - val_accuracy: 0.8605\n",
      "Epoch 25/1000\n",
      "380/380 [==============================] - 0s 319us/sample - loss: 0.6362 - accuracy: 0.8474 - val_loss: 0.6667 - val_accuracy: 0.8605\n",
      "Epoch 26/1000\n",
      "380/380 [==============================] - 0s 295us/sample - loss: 0.6011 - accuracy: 0.8500 - val_loss: 0.6050 - val_accuracy: 0.8605\n",
      "Epoch 27/1000\n",
      "380/380 [==============================] - 0s 324us/sample - loss: 0.5863 - accuracy: 0.8500 - val_loss: 0.6182 - val_accuracy: 0.8605\n",
      "Epoch 28/1000\n",
      "380/380 [==============================] - 0s 287us/sample - loss: 0.5848 - accuracy: 0.8500 - val_loss: 0.6385 - val_accuracy: 0.8605\n",
      "Epoch 29/1000\n",
      "380/380 [==============================] - 0s 302us/sample - loss: 0.5819 - accuracy: 0.8500 - val_loss: 0.6805 - val_accuracy: 0.8605\n",
      "Epoch 30/1000\n",
      "380/380 [==============================] - 0s 351us/sample - loss: 0.5897 - accuracy: 0.8500 - val_loss: 0.5955 - val_accuracy: 0.8605\n",
      "Epoch 31/1000\n",
      "380/380 [==============================] - 0s 305us/sample - loss: 0.5780 - accuracy: 0.8500 - val_loss: 0.6216 - val_accuracy: 0.8605\n",
      "Epoch 32/1000\n",
      "380/380 [==============================] - 0s 305us/sample - loss: 0.5791 - accuracy: 0.8500 - val_loss: 0.6323 - val_accuracy: 0.8605\n",
      "Epoch 33/1000\n",
      "380/380 [==============================] - 0s 306us/sample - loss: 0.5695 - accuracy: 0.8500 - val_loss: 0.5853 - val_accuracy: 0.8605\n",
      "Epoch 34/1000\n",
      "380/380 [==============================] - 0s 308us/sample - loss: 0.5722 - accuracy: 0.8500 - val_loss: 0.5846 - val_accuracy: 0.8605\n",
      "Epoch 35/1000\n",
      "380/380 [==============================] - 0s 303us/sample - loss: 0.5674 - accuracy: 0.8500 - val_loss: 0.5854 - val_accuracy: 0.8605\n",
      "Epoch 36/1000\n",
      "380/380 [==============================] - 0s 307us/sample - loss: 0.5671 - accuracy: 0.8500 - val_loss: 0.5736 - val_accuracy: 0.8605\n",
      "Epoch 37/1000\n",
      "380/380 [==============================] - 0s 303us/sample - loss: 0.5586 - accuracy: 0.8500 - val_loss: 0.5829 - val_accuracy: 0.8605\n",
      "Epoch 38/1000\n",
      "380/380 [==============================] - 0s 301us/sample - loss: 0.5618 - accuracy: 0.8500 - val_loss: 0.5737 - val_accuracy: 0.8605\n",
      "Epoch 39/1000\n",
      "380/380 [==============================] - 0s 303us/sample - loss: 0.5546 - accuracy: 0.8500 - val_loss: 0.5768 - val_accuracy: 0.8605\n",
      "Epoch 40/1000\n",
      "380/380 [==============================] - 0s 301us/sample - loss: 0.5541 - accuracy: 0.8500 - val_loss: 0.5623 - val_accuracy: 0.8605\n",
      "Epoch 41/1000\n",
      "380/380 [==============================] - 0s 303us/sample - loss: 0.5555 - accuracy: 0.8500 - val_loss: 0.5584 - val_accuracy: 0.8605\n",
      "Epoch 42/1000\n",
      "380/380 [==============================] - 0s 303us/sample - loss: 0.5556 - accuracy: 0.8500 - val_loss: 0.5701 - val_accuracy: 0.8605\n",
      "Epoch 43/1000\n",
      "380/380 [==============================] - 0s 337us/sample - loss: 0.5513 - accuracy: 0.8500 - val_loss: 0.6088 - val_accuracy: 0.8605\n",
      "Epoch 44/1000\n",
      "380/380 [==============================] - 0s 326us/sample - loss: 0.5512 - accuracy: 0.8500 - val_loss: 0.5560 - val_accuracy: 0.8605\n",
      "Epoch 45/1000\n",
      "380/380 [==============================] - 0s 297us/sample - loss: 0.5596 - accuracy: 0.8500 - val_loss: 0.5857 - val_accuracy: 0.8605\n",
      "Epoch 46/1000\n",
      "380/380 [==============================] - 0s 276us/sample - loss: 0.5563 - accuracy: 0.8500 - val_loss: 0.5690 - val_accuracy: 0.8605\n",
      "Epoch 47/1000\n",
      "380/380 [==============================] - 0s 327us/sample - loss: 0.5489 - accuracy: 0.8500 - val_loss: 0.5440 - val_accuracy: 0.8605\n",
      "Epoch 48/1000\n",
      "380/380 [==============================] - 0s 287us/sample - loss: 0.5403 - accuracy: 0.8500 - val_loss: 0.5580 - val_accuracy: 0.8605\n",
      "Epoch 49/1000\n",
      "380/380 [==============================] - 0s 301us/sample - loss: 0.5428 - accuracy: 0.8500 - val_loss: 0.5581 - val_accuracy: 0.8605\n",
      "Epoch 50/1000\n",
      "380/380 [==============================] - 0s 295us/sample - loss: 0.5338 - accuracy: 0.8500 - val_loss: 0.5726 - val_accuracy: 0.8605\n",
      "Epoch 51/1000\n",
      "380/380 [==============================] - 0s 297us/sample - loss: 0.5288 - accuracy: 0.8500 - val_loss: 0.6252 - val_accuracy: 0.8605\n",
      "Epoch 52/1000\n",
      "380/380 [==============================] - 0s 295us/sample - loss: 0.5441 - accuracy: 0.8500 - val_loss: 0.5427 - val_accuracy: 0.8605\n",
      "Epoch 53/1000\n",
      "380/380 [==============================] - 0s 292us/sample - loss: 0.5240 - accuracy: 0.8500 - val_loss: 0.5929 - val_accuracy: 0.8605\n",
      "Epoch 54/1000\n",
      "380/380 [==============================] - 0s 301us/sample - loss: 0.5313 - accuracy: 0.8500 - val_loss: 0.5401 - val_accuracy: 0.8605\n",
      "Epoch 55/1000\n",
      "380/380 [==============================] - 0s 339us/sample - loss: 0.5323 - accuracy: 0.8500 - val_loss: 0.5429 - val_accuracy: 0.8605\n"
     ]
    },
    {
     "name": "stdout",
     "output_type": "stream",
     "text": [
      "Epoch 56/1000\n",
      "380/380 [==============================] - 0s 318us/sample - loss: 0.5254 - accuracy: 0.8500 - val_loss: 0.5425 - val_accuracy: 0.8605\n",
      "Epoch 57/1000\n",
      "380/380 [==============================] - 0s 295us/sample - loss: 0.5275 - accuracy: 0.8500 - val_loss: 0.5362 - val_accuracy: 0.8605\n",
      "Epoch 58/1000\n",
      "380/380 [==============================] - 0s 294us/sample - loss: 0.5273 - accuracy: 0.8500 - val_loss: 0.5352 - val_accuracy: 0.8605\n"
     ]
    }
   ],
   "source": [
    "model = Sequential()\n",
    "\n",
    "model.add(Dense(64, input_shape=(17, ), activation='relu',\n",
    "               kernel_regularizer=regularizers.l1_l2(l1=0.001, l2=0.001)))\n",
    "model.add(Dense(32, activation='relu',\n",
    "               kernel_regularizer=regularizers.l1_l2(l1=0.001, l2=0.001))) \n",
    "model.add(Dense(16, activation='relu',\n",
    "               kernel_regularizer=regularizers.l1_l2(l1=0.001, l2=0.001))) \n",
    "model.add(Dense(1, activation='sigmoid')) \n",
    "\n",
    "model.compile(optimizer='adam', loss='binary_crossentropy', metrics=['accuracy'])\n",
    "\n",
    "early_stopping = EarlyStopping(monitor='loss', patience=5)\n",
    "hist = model.fit(x_train, y_train, validation_data=(x_val, y_val), epochs=1000, \n",
    "                 batch_size=5, callbacks=[early_stopping])"
   ]
  },
  {
   "cell_type": "code",
   "execution_count": 5,
   "metadata": {},
   "outputs": [
    {
     "data": {
      "image/png": "[encoded data removed]",
      "text/plain": [
       "<Figure size 432x288 with 2 Axes>"
      ]
     },
     "metadata": {
      "needs_background": "light"
     },
     "output_type": "display_data"
    },
    {
     "name": "stdout",
     "output_type": "stream",
     "text": [
      "Model: \"sequential\"\n",
      "_________________________________________________________________\n",
      "Layer (type)                 Output Shape              Param #   \n",
      "=================================================================\n",
      "dense (Dense)                (None, 64)                1152      \n",
      "_________________________________________________________________\n",
      "dense_1 (Dense)              (None, 32)                2080      \n",
      "_________________________________________________________________\n",
      "dense_2 (Dense)              (None, 16)                528       \n",
      "_________________________________________________________________\n",
      "dense_3 (Dense)              (None, 1)                 17        \n",
      "=================================================================\n",
      "Total params: 3,777\n",
      "Trainable params: 3,777\n",
      "Non-trainable params: 0\n",
      "_________________________________________________________________\n"
     ]
    }
   ],
   "source": [
    "fig, loss_ax = plt.subplots()\n",
    "\n",
    "# double y-axis\n",
    "acc_ax = loss_ax.twinx() \n",
    "\n",
    "# y-axis (left)\n",
    "loss_ax.plot(hist.history['loss'], 'y', label='train loss')\n",
    "loss_ax.plot(hist.history['val_loss'], 'r', label='val loss')\n",
    "\n",
    "# y-axis (right)\n",
    "acc_ax.plot(hist.history['accuracy'], 'b', label='train accuracy')\n",
    "acc_ax.plot(hist.history['val_accuracy'], 'g', label='val accuracy')\n",
    "#acc_ax.set_ylim([0.0, 1.0])\n",
    "\n",
    "# axis labels\n",
    "loss_ax.set_xlabel('epoch')  \n",
    "loss_ax.set_ylabel('loss')   \n",
    "acc_ax.set_ylabel('accuracy') \n",
    "\n",
    "loss_ax.legend(loc='upper left') \n",
    "acc_ax.legend(loc='lower left')  \n",
    "\n",
    "plt.show()\n",
    "model.summary()"
   ]
  },
  {
   "cell_type": "code",
   "execution_count": 6,
   "metadata": {},
   "outputs": [
    {
     "name": "stdout",
     "output_type": "stream",
     "text": [
      "Loss: 0.5311421377861754 /Accuracy: 85.10638475418091 %\n"
     ]
    }
   ],
   "source": [
    "test_loss, test_acc = model.evaluate(x_test, y_test, batch_size=1, verbose=0)\n",
    "print('Loss:', test_loss, '/Accuracy:', (test_acc*100), '%')"
   ]
  },
  {
   "cell_type": "code",
   "execution_count": 7,
   "metadata": {},
   "outputs": [],
   "source": [
    "model.save('./CancerSurvival.h5')"
   ]
  },
  {
   "cell_type": "markdown",
   "metadata": {},
   "source": [
    "# Model Reuse"
   ]
  },
  {
   "cell_type": "code",
   "execution_count": 17,
   "metadata": {},
   "outputs": [],
   "source": [
    "import warnings\n",
    "warnings.filterwarnings(action='ignore')\n",
    "\n",
    "model2 = load_model('./CancerSurvival.h5')\n"
   ]
  },
  {
   "cell_type": "code",
   "execution_count": 9,
   "metadata": {},
   "outputs": [
    {
     "name": "stdout",
     "output_type": "stream",
     "text": [
      "[[293.     1.     3.8    2.8    0.     0.     0.     0.     0.     0.\n",
      "   12.     0.     0.     0.     1.     0.    62.  ]\n",
      " [  1.     2.     2.88   2.16   1.     0.     0.     0.     1.     1.\n",
      "   14.     0.     0.     0.     1.     0.    60.  ]\n",
      " [  8.     2.     3.19   2.5    1.     0.     0.     0.     1.     0.\n",
      "   11.     0.     0.     1.     1.     0.    66.  ]\n",
      " [ 14.     2.     3.98   3.06   2.     0.     0.     0.     1.     1.\n",
      "   14.     0.     0.     0.     1.     0.    80.  ]\n",
      " [ 17.     2.     2.21   1.88   0.     0.     1.     0.     0.     0.\n",
      "   12.     0.     0.     0.     1.     0.    56.  ]\n",
      " [ 18.     2.     2.96   1.67   0.     0.     0.     0.     0.     0.\n",
      "   12.     0.     0.     0.     1.     0.    61.  ]\n",
      " [ 35.     2.     2.76   2.2    1.     0.     0.     0.     1.     0.\n",
      "   11.     0.     0.     0.     0.     0.    76.  ]\n",
      " [ 42.     2.     3.24   2.52   1.     0.     0.     0.     1.     0.\n",
      "   12.     0.     0.     0.     1.     0.    63.  ]\n",
      " [ 65.     2.     3.15   2.76   1.     0.     1.     0.     1.     0.\n",
      "   12.     0.     0.     0.     1.     0.    59.  ]\n",
      " [111.     2.     4.48   4.2    0.     0.     0.     0.     0.     0.\n",
      "   12.     0.     0.     0.     1.     0.    55.  ]]\n"
     ]
    }
   ],
   "source": [
    "x_data2 = np.array([\n",
    "[293,1,3.8,2.8,0,0,0,0,0,0,12,0,0,0,1,0,62],\n",
    "[1,2,2.88,2.16,1,0,0,0,1,1,14,0,0,0,1,0,60],\n",
    "[8,2,3.19,2.5,1,0,0,0,1,0,11,0,0,1,1,0,66],\n",
    "[14,2,3.98,3.06,2,0,0,0,1,1,14,0,0,0,1,0,80],\n",
    "[17,2,2.21,1.88,0,0,1,0,0,0,12,0,0,0,1,0,56],\n",
    "[18,2,2.96,1.67,0,0,0,0,0,0,12,0,0,0,1,0,61],\n",
    "[35,2,2.76,2.2,1,0,0,0,1,0,11,0,0,0,0,0,76],\n",
    "[42,2,3.24,2.52,1,0,0,0,1,0,12,0,0,0,1,0,63],\n",
    "[65,2,3.15,2.76,1,0,1,0,1,0,12,0,0,0,1,0,59],\n",
    "[111,2,4.48,4.2,0,0,0,0,0,0,12,0,0,0,1,0,55]\n",
    "])\n",
    "\n",
    "y_data2 = np.array([[0],\n",
    "                        [0],\n",
    "                        [1],\n",
    "                        [1],\n",
    "                        [0],\n",
    "                        [0],\n",
    "                        [0],\n",
    "                        [1],\n",
    "                        [0],\n",
    "                        [0]])\n",
    "\n",
    "print(x_data2[0:17]) "
   ]
  },
  {
   "cell_type": "code",
   "execution_count": 18,
   "metadata": {},
   "outputs": [
    {
     "name": "stdout",
     "output_type": "stream",
     "text": [
      "(10, 1)\n",
      "<class 'numpy.ndarray'>\n",
      "[[0.16114113]\n",
      " [0.28222752]\n",
      " [0.25569224]\n",
      " [0.21772844]\n",
      " [0.26417843]\n",
      " [0.25144297]\n",
      " [0.19586492]\n",
      " [0.2195184 ]\n",
      " [0.22984205]\n",
      " [0.24931097]]\n",
      "Actual= [0]  => Calculated= [0.16114113] => Predicted: 0\n",
      "Actual= [0]  => Calculated= [0.28222752] => Predicted: 0\n",
      "Actual= [1]  => Calculated= [0.25569224] => Predicted: 0\n",
      "Actual= [1]  => Calculated= [0.21772844] => Predicted: 0\n",
      "Actual= [0]  => Calculated= [0.26417843] => Predicted: 0\n",
      "Actual= [0]  => Calculated= [0.25144297] => Predicted: 0\n",
      "Actual= [0]  => Calculated= [0.19586492] => Predicted: 0\n",
      "Actual= [1]  => Calculated= [0.2195184] => Predicted: 0\n",
      "Actual= [0]  => Calculated= [0.22984205] => Predicted: 0\n",
      "Actual= [0]  => Calculated= [0.24931097] => Predicted: 0\n"
     ]
    }
   ],
   "source": [
    "y_predict = model2.predict(x_data2)\n",
    "print(y_predict.shape)\n",
    "print(type(y_predict))\n",
    "print(y_predict)\n",
    "\n",
    "for i in range(len(x_data2)):\n",
    "    print('Actual=', y_data2[i], ' => Calculated=', y_predict[i], end='')\n",
    "    \n",
    "    if y_predict[i] >= 0.5:\n",
    "        y_predict[i] = 1\n",
    "    else:\n",
    "        y_predict[i] = 0\n",
    "    print(' => Predicted:', int(y_predict[i]))"
   ]
  },
  {
   "cell_type": "code",
   "execution_count": 19,
   "metadata": {},
   "outputs": [
    {
     "name": "stdout",
     "output_type": "stream",
     "text": [
      "<class 'numpy.ndarray'>\n",
      "(17,)\n",
      "[10.   1.   3.8  2.8  1.   2.   1.   2.   2.   0.  12.   0.   1.   1.\n",
      "  1.   0.  62. ]\n"
     ]
    }
   ],
   "source": [
    "data = \"10, 1, 3.8, 2.8, 1, 2, 1, 2, 2, 0, 12, 0, 1, 1, 1, 0, 62\"\n",
    "data = np.array(data.split(','), dtype=float) \n",
    "\n",
    "# <class 'numpy.ndarray'>\n",
    "print(type(data)) \n",
    "print(data.shape)\n",
    "print(data)"
   ]
  },
  {
   "cell_type": "code",
   "execution_count": 20,
   "metadata": {},
   "outputs": [
    {
     "name": "stdout",
     "output_type": "stream",
     "text": [
      "<class 'numpy.ndarray'>\n",
      "(1, 17)\n",
      "[[10.   1.   3.8  2.8  1.   2.   1.   2.   2.   0.  12.   0.   1.   1.\n",
      "   1.   0.  62. ]]\n"
     ]
    }
   ],
   "source": [
    "# increase dimension\n",
    "x_data3 = np.array([\n",
    "    data,\n",
    "])\n",
    "\n",
    "print(type(x_data3))\n",
    "print(x_data3.shape) # (1, 17)\n",
    "print(x_data3)"
   ]
  },
  {
   "cell_type": "code",
   "execution_count": 21,
   "metadata": {},
   "outputs": [
    {
     "name": "stdout",
     "output_type": "stream",
     "text": [
      "(1, 17)\n",
      "(1, 17)\n",
      "(17,)\n",
      "<class 'numpy.ndarray'>\n"
     ]
    }
   ],
   "source": [
    "print(x_data3.shape)\n",
    "print(x_data3[0:1].shape)\n",
    "print(x_data3[0].shape)\n",
    "print(type(x_data3[0]))"
   ]
  },
  {
   "cell_type": "code",
   "execution_count": 22,
   "metadata": {},
   "outputs": [
    {
     "name": "stdout",
     "output_type": "stream",
     "text": [
      "(1, 1)\n",
      "<class 'numpy.ndarray'>\n",
      "[[0.2610618]]\n",
      "survival rate= [0.2610618] → dead\n"
     ]
    }
   ],
   "source": [
    "y_predict = model2.predict(x_data3)\n",
    "\n",
    "print(y_predict.shape)\n",
    "print(type(y_predict))\n",
    "print(y_predict)\n",
    "\n",
    "for i in range(len(x_data3)):\n",
    "    print('survival rate=', y_predict[i], end='')\n",
    "    \n",
    "    if y_predict[i] >= 0.5:\n",
    "        print(' → survived')\n",
    "        res = 'Survived'\n",
    "    else:\n",
    "        print(' → dead');\n",
    "        res = 'Dead'\n"
   ]
  },
  {
   "cell_type": "code",
   "execution_count": null,
   "metadata": {},
   "outputs": [],
   "source": []
  },
  {
   "cell_type": "code",
   "execution_count": null,
   "metadata": {},
   "outputs": [],
   "source": []
  },
  {
   "cell_type": "code",
   "execution_count": null,
   "metadata": {},
   "outputs": [],
   "source": []
  }
 ],
 "metadata": {
  "kernelspec": {
   "display_name": "machine",
   "language": "python",
   "name": "machine"
  },
  "language_info": {
   "codemirror_mode": {
    "name": "ipython",
    "version": 3
   },
   "file_extension": ".py",
   "mimetype": "text/x-python",
   "name": "python",
   "nbconvert_exporter": "python",
   "pygments_lexer": "ipython3",
   "version": "3.6.9"
  }
 },
 "nbformat": 4,
 "nbformat_minor": 2
}
