{
 "cells": [
  {
   "cell_type": "code",
   "execution_count": 18,
   "metadata": {},
   "outputs": [
    {
     "name": "stdout",
     "output_type": "stream",
     "text": [
      "2.0.0\n"
     ]
    }
   ],
   "source": [
    "import os\n",
    "import numpy as np\n",
    "import pandas as pd\n",
    "import tensorflow as tf\n",
    "import matplotlib.pyplot as plt\n",
    "\n",
    "# tensorflow 2.0\n",
    "from tensorflow.keras.models import load_model  \n",
    "from tensorflow.keras.models import Sequential \n",
    "from tensorflow.keras.layers import Dense       \n",
    "from tensorflow.keras.callbacks import EarlyStopping\n",
    "from tensorflow.keras.callbacks import ModelCheckpoint\n",
    "from tensorflow.keras import regularizers \n",
    "\n",
    "# sklearn => useful for pre-process\n",
    "from sklearn.preprocessing import LabelEncoder\n",
    "from sklearn.model_selection import train_test_split\n",
    "from sklearn.model_selection import StratifiedKFold\n",
    "\n",
    "print(tf.__version__)"
   ]
  },
  {
   "cell_type": "code",
   "execution_count": 5,
   "metadata": {},
   "outputs": [
    {
     "name": "stdout",
     "output_type": "stream",
     "text": [
      "<class 'numpy.ndarray'>\n",
      "(6497, 13)\n",
      "(6497, 12)\n",
      "(6497,)\n"
     ]
    }
   ],
   "source": [
    "data = np.loadtxt('./wine.csv', delimiter=\",\", dtype=np.float64)\n",
    "print(type(data))\n",
    "print(data.shape)\n",
    "\n",
    "X = data[:, 0:12]\n",
    "Y = data[:, 12]\n",
    "\n",
    "print(X.shape)\n",
    "print(Y.shape)"
   ]
  },
  {
   "cell_type": "code",
   "execution_count": 6,
   "metadata": {},
   "outputs": [
    {
     "name": "stdout",
     "output_type": "stream",
     "text": [
      "[1. 1. 0. 0. 0. 0. 0. 0. 0. 0. 1. 1. 0. 0. 0. 1. 0. 0. 1. 0. 1. 1. 1. 0.\n",
      " 1. 0. 0. 0. 0. 0. 0. 0. 1. 0. 0. 0. 0. 0. 0. 0. 1. 0. 0. 1. 0. 0. 0. 0.\n",
      " 0. 0. 0. 0. 0. 0. 0. 0. 1. 0. 0. 0. 0. 0. 0. 1. 1. 0. 0. 1. 0. 1. 0. 0.\n",
      " 0. 0. 0. 0. 0. 0. 0. 1. 0. 0. 0. 0. 0. 1. 0. 0. 1. 0. 1. 0. 1. 0. 1. 0.\n",
      " 0. 1. 0. 1. 0. 0. 0. 1. 1. 0. 0. 0. 0. 0. 1. 0. 0. 1. 0. 0. 0. 1. 0. 0.\n",
      " 0. 0. 1. 0. 1. 0. 0. 1. 1. 1. 0. 1. 0. 1. 0. 0. 0. 0. 0. 1. 0. 1. 0. 0.\n",
      " 0. 0. 0. 0. 1. 0. 0. 1. 0. 1. 0. 0. 1. 0. 0. 0. 0. 0. 0. 0. 0. 1. 1. 1.\n",
      " 0. 1. 0. 0. 0. 0. 0. 0. 0. 0. 0. 0. 0. 0. 0. 0. 0. 0. 1. 0. 0. 0. 0. 0.\n",
      " 1. 0. 0. 0. 0. 1. 1. 0. 0. 0. 0. 0. 0. 0. 0. 0. 0. 0. 0. 1. 0. 1. 0. 0.\n",
      " 0. 0. 0. 1. 0. 1. 0. 0. 0. 0. 1. 1. 0. 1. 0. 0. 1. 1. 0. 1. 0. 0. 0. 0.\n",
      " 0. 1. 1. 1. 1. 0. 0. 1. 0. 0. 1. 1. 0. 0. 0. 0. 0. 1. 0. 1. 1. 0. 0. 0.\n",
      " 0. 0. 0. 0. 1. 0. 0. 1. 1. 0. 1. 0. 0. 0. 1. 1. 1. 0. 0. 0. 0. 0. 0. 0.\n",
      " 0. 0. 1. 0. 0. 1. 0. 1. 0. 1. 0. 0. 0. 1. 0. 0. 1. 0. 0. 0. 1. 0. 0. 0.\n",
      " 0. 0. 0. 0. 0. 0. 0. 1. 0. 0. 0. 0. 0. 0. 0. 0. 0. 0. 0. 1. 0. 0. 0. 0.\n",
      " 0. 0. 1. 0. 1. 1. 0. 0. 0. 1. 0. 1. 0. 1. 0. 0. 0. 0. 0. 0. 0. 1. 0. 0.\n",
      " 0. 0. 0. 1. 0. 0. 0. 0. 0. 0. 0. 0. 0. 0. 0. 1. 0. 1. 1. 1. 0. 0. 0. 1.\n",
      " 0. 0. 0. 1. 1. 0. 0. 0. 0. 0. 0. 0. 0. 1. 0. 0. 0. 0. 1. 0. 1. 0. 0. 0.\n",
      " 1. 0. 0. 1. 0. 0. 0. 0. 0. 0. 0. 0. 0. 0. 0. 0. 0. 0. 0. 1. 0. 0. 0. 1.\n",
      " 0. 0. 0. 0. 0. 0. 0. 0. 1. 1. 0. 0. 1. 0. 0. 1. 0. 0. 0. 0. 0. 0. 0. 0.\n",
      " 1. 1. 0. 0. 0. 0. 0. 0. 0. 0. 1. 0. 0. 0. 0. 0. 1. 1. 0. 0. 0. 1. 1. 0.\n",
      " 0. 0. 0. 0. 0. 0. 1. 0. 0. 0. 1. 1. 0. 0. 1. 0. 0. 0. 0. 0. 0. 0. 0. 0.\n",
      " 0. 0. 0. 0. 1. 0. 0. 1. 1. 1. 0. 0. 1. 0. 1. 0. 1. 0. 0. 0. 0. 0. 0. 1.\n",
      " 0. 1. 1. 0. 0. 0. 0. 1. 0. 0. 0. 0. 1. 0. 0. 0. 0. 0. 1. 0. 1. 0. 0. 0.\n",
      " 0. 0. 0. 0. 0. 0. 0. 0. 0. 0. 0. 0. 0. 0. 0. 0. 1. 0. 1. 1. 0. 0. 0. 0.\n",
      " 1. 0. 0. 0. 0. 1. 0. 0. 0.]\n",
      "(585,)\n"
     ]
    }
   ],
   "source": [
    "seed = 0\n",
    "\n",
    "# split data => test 90%, validation 10%\n",
    "x_train_all, x_test, y_train_all, y_test = train_test_split(X, Y,\n",
    "                                                            stratify=Y,\n",
    "                                                            test_size=0.1,\n",
    "                                                            random_state=seed)\n",
    "# split test data(85%) => test 90%, validation 10%\n",
    "x_train, x_val, y_train, y_val = train_test_split(x_train_all, y_train_all,\n",
    "                                                  stratify=y_train_all,\n",
    "                                                  test_size=0.1,\n",
    "                                                  random_state=seed)\n",
    "print(y_val)\n",
    "print(y_val.shape) "
   ]
  },
  {
   "cell_type": "code",
   "execution_count": 19,
   "metadata": {},
   "outputs": [
    {
     "name": "stdout",
     "output_type": "stream",
     "text": [
      "Train on 5262 samples, validate on 585 samples\n",
      "Epoch 1/1000\n",
      "5262/5262 [==============================] - 2s 434us/sample - loss: 0.4725 - accuracy: 0.9208 - val_loss: 0.3547 - val_accuracy: 0.9385\n",
      "Epoch 2/1000\n",
      "5262/5262 [==============================] - 2s 302us/sample - loss: 0.3600 - accuracy: 0.9337 - val_loss: 0.3117 - val_accuracy: 0.9282\n",
      "Epoch 3/1000\n",
      "5262/5262 [==============================] - 2s 301us/sample - loss: 0.3166 - accuracy: 0.9379 - val_loss: 0.3665 - val_accuracy: 0.9128\n",
      "Epoch 4/1000\n",
      "5262/5262 [==============================] - 2s 296us/sample - loss: 0.2897 - accuracy: 0.9399 - val_loss: 0.2652 - val_accuracy: 0.9538\n",
      "Epoch 5/1000\n",
      "5262/5262 [==============================] - 2s 298us/sample - loss: 0.2718 - accuracy: 0.9411 - val_loss: 0.2333 - val_accuracy: 0.9521\n",
      "Epoch 6/1000\n",
      "5262/5262 [==============================] - 2s 300us/sample - loss: 0.2512 - accuracy: 0.9443 - val_loss: 0.2194 - val_accuracy: 0.9470\n",
      "Epoch 7/1000\n",
      "5262/5262 [==============================] - 2s 301us/sample - loss: 0.2289 - accuracy: 0.9472 - val_loss: 0.2001 - val_accuracy: 0.9504\n",
      "Epoch 8/1000\n",
      "5262/5262 [==============================] - 2s 297us/sample - loss: 0.2140 - accuracy: 0.9513 - val_loss: 0.1874 - val_accuracy: 0.9556\n",
      "Epoch 9/1000\n",
      "5262/5262 [==============================] - 2s 298us/sample - loss: 0.2046 - accuracy: 0.9521 - val_loss: 0.2120 - val_accuracy: 0.9470\n",
      "Epoch 10/1000\n",
      "5262/5262 [==============================] - 2s 297us/sample - loss: 0.1988 - accuracy: 0.9548 - val_loss: 0.1825 - val_accuracy: 0.9590\n",
      "Epoch 11/1000\n",
      "5262/5262 [==============================] - 2s 298us/sample - loss: 0.1909 - accuracy: 0.9534 - val_loss: 0.1662 - val_accuracy: 0.9590\n",
      "Epoch 12/1000\n",
      "5262/5262 [==============================] - 2s 299us/sample - loss: 0.1798 - accuracy: 0.9591 - val_loss: 0.1533 - val_accuracy: 0.9624\n",
      "Epoch 13/1000\n",
      "5262/5262 [==============================] - 2s 299us/sample - loss: 0.1730 - accuracy: 0.9624 - val_loss: 0.1563 - val_accuracy: 0.9607\n",
      "Epoch 14/1000\n",
      "5262/5262 [==============================] - 2s 312us/sample - loss: 0.1653 - accuracy: 0.9643 - val_loss: 0.1482 - val_accuracy: 0.9658\n",
      "Epoch 15/1000\n",
      "5262/5262 [==============================] - 2s 297us/sample - loss: 0.1603 - accuracy: 0.9629 - val_loss: 0.1405 - val_accuracy: 0.9658\n",
      "Epoch 16/1000\n",
      "5262/5262 [==============================] - 2s 303us/sample - loss: 0.1597 - accuracy: 0.9643 - val_loss: 0.1341 - val_accuracy: 0.9692\n",
      "Epoch 17/1000\n",
      "5262/5262 [==============================] - 2s 319us/sample - loss: 0.1526 - accuracy: 0.9677 - val_loss: 0.1317 - val_accuracy: 0.9692\n",
      "Epoch 18/1000\n",
      "5262/5262 [==============================] - 2s 296us/sample - loss: 0.1476 - accuracy: 0.9675 - val_loss: 0.1248 - val_accuracy: 0.9709\n",
      "Epoch 19/1000\n",
      "5262/5262 [==============================] - 2s 322us/sample - loss: 0.1476 - accuracy: 0.9681 - val_loss: 0.1276 - val_accuracy: 0.9726\n",
      "Epoch 20/1000\n",
      "5262/5262 [==============================] - 2s 296us/sample - loss: 0.1418 - accuracy: 0.9692 - val_loss: 0.1359 - val_accuracy: 0.9709\n",
      "Epoch 21/1000\n",
      "5262/5262 [==============================] - 2s 308us/sample - loss: 0.1432 - accuracy: 0.9675 - val_loss: 0.1285 - val_accuracy: 0.9726\n",
      "Epoch 22/1000\n",
      "5262/5262 [==============================] - 2s 308us/sample - loss: 0.1390 - accuracy: 0.9707 - val_loss: 0.1246 - val_accuracy: 0.9744\n",
      "Epoch 23/1000\n",
      "5262/5262 [==============================] - 2s 293us/sample - loss: 0.1341 - accuracy: 0.9715 - val_loss: 0.1362 - val_accuracy: 0.9726\n",
      "Epoch 24/1000\n",
      "5262/5262 [==============================] - 2s 306us/sample - loss: 0.1357 - accuracy: 0.9707 - val_loss: 0.1512 - val_accuracy: 0.9641\n",
      "Epoch 25/1000\n",
      "5262/5262 [==============================] - 2s 297us/sample - loss: 0.1274 - accuracy: 0.9717 - val_loss: 0.1278 - val_accuracy: 0.9744\n",
      "Epoch 26/1000\n",
      "5262/5262 [==============================] - 2s 308us/sample - loss: 0.1240 - accuracy: 0.9745 - val_loss: 0.1019 - val_accuracy: 0.9795\n",
      "Epoch 27/1000\n",
      "5262/5262 [==============================] - 2s 298us/sample - loss: 0.1245 - accuracy: 0.9726 - val_loss: 0.1047 - val_accuracy: 0.9829\n",
      "Epoch 28/1000\n",
      "5262/5262 [==============================] - 2s 293us/sample - loss: 0.1236 - accuracy: 0.9745 - val_loss: 0.1544 - val_accuracy: 0.9641\n",
      "Epoch 29/1000\n",
      "5262/5262 [==============================] - 2s 301us/sample - loss: 0.1217 - accuracy: 0.9728 - val_loss: 0.0990 - val_accuracy: 0.9795\n",
      "Epoch 30/1000\n",
      "5262/5262 [==============================] - 2s 311us/sample - loss: 0.1227 - accuracy: 0.9724 - val_loss: 0.0968 - val_accuracy: 0.9812\n",
      "Epoch 31/1000\n",
      "5262/5262 [==============================] - 2s 293us/sample - loss: 0.1191 - accuracy: 0.9743 - val_loss: 0.1187 - val_accuracy: 0.9761\n",
      "Epoch 32/1000\n",
      "5262/5262 [==============================] - 2s 290us/sample - loss: 0.1152 - accuracy: 0.9753 - val_loss: 0.1071 - val_accuracy: 0.9726\n",
      "Epoch 33/1000\n",
      "5262/5262 [==============================] - 2s 296us/sample - loss: 0.1168 - accuracy: 0.9740 - val_loss: 0.0934 - val_accuracy: 0.9812\n",
      "Epoch 34/1000\n",
      "5262/5262 [==============================] - 2s 291us/sample - loss: 0.1108 - accuracy: 0.9759 - val_loss: 0.1419 - val_accuracy: 0.9556\n",
      "Epoch 35/1000\n",
      "5262/5262 [==============================] - 2s 294us/sample - loss: 0.1093 - accuracy: 0.9759 - val_loss: 0.1339 - val_accuracy: 0.9658\n",
      "Epoch 36/1000\n",
      "5262/5262 [==============================] - 2s 309us/sample - loss: 0.1127 - accuracy: 0.9736 - val_loss: 0.0893 - val_accuracy: 0.9846\n",
      "Epoch 37/1000\n",
      "5262/5262 [==============================] - 2s 292us/sample - loss: 0.1099 - accuracy: 0.9755 - val_loss: 0.0893 - val_accuracy: 0.9846\n",
      "Epoch 38/1000\n",
      "5262/5262 [==============================] - 2s 293us/sample - loss: 0.1061 - accuracy: 0.9774 - val_loss: 0.0915 - val_accuracy: 0.9778\n",
      "Epoch 39/1000\n",
      "5262/5262 [==============================] - 2s 294us/sample - loss: 0.1098 - accuracy: 0.9749 - val_loss: 0.1037 - val_accuracy: 0.9761\n",
      "Epoch 40/1000\n",
      "5262/5262 [==============================] - 2s 302us/sample - loss: 0.1070 - accuracy: 0.9768 - val_loss: 0.1117 - val_accuracy: 0.9761\n",
      "Epoch 41/1000\n",
      "5262/5262 [==============================] - 2s 302us/sample - loss: 0.1032 - accuracy: 0.9778 - val_loss: 0.0887 - val_accuracy: 0.9829\n",
      "Epoch 42/1000\n",
      "5262/5262 [==============================] - 2s 289us/sample - loss: 0.1056 - accuracy: 0.9743 - val_loss: 0.1120 - val_accuracy: 0.9726\n",
      "Epoch 43/1000\n",
      "5262/5262 [==============================] - 2s 291us/sample - loss: 0.1059 - accuracy: 0.9757 - val_loss: 0.0916 - val_accuracy: 0.9795\n",
      "Epoch 44/1000\n",
      "5262/5262 [==============================] - 2s 288us/sample - loss: 0.1061 - accuracy: 0.9743 - val_loss: 0.0920 - val_accuracy: 0.9795\n",
      "Epoch 45/1000\n",
      "5262/5262 [==============================] - 2s 290us/sample - loss: 0.1011 - accuracy: 0.9766 - val_loss: 0.1009 - val_accuracy: 0.9778\n",
      "Epoch 46/1000\n",
      "5262/5262 [==============================] - 2s 298us/sample - loss: 0.1066 - accuracy: 0.9755 - val_loss: 0.0866 - val_accuracy: 0.9829\n",
      "Epoch 47/1000\n",
      "5262/5262 [==============================] - 2s 292us/sample - loss: 0.1024 - accuracy: 0.9761 - val_loss: 0.0841 - val_accuracy: 0.9846\n",
      "Epoch 48/1000\n",
      "5262/5262 [==============================] - 2s 297us/sample - loss: 0.0993 - accuracy: 0.9768 - val_loss: 0.0860 - val_accuracy: 0.9812\n",
      "Epoch 49/1000\n",
      "5262/5262 [==============================] - 2s 295us/sample - loss: 0.1010 - accuracy: 0.9755 - val_loss: 0.0883 - val_accuracy: 0.9812\n",
      "Epoch 50/1000\n",
      "5262/5262 [==============================] - 2s 297us/sample - loss: 0.1009 - accuracy: 0.9780 - val_loss: 0.0813 - val_accuracy: 0.9846\n",
      "Epoch 51/1000\n",
      "5262/5262 [==============================] - 2s 301us/sample - loss: 0.1009 - accuracy: 0.9787 - val_loss: 0.0886 - val_accuracy: 0.9829\n",
      "Epoch 52/1000\n",
      "5262/5262 [==============================] - 2s 298us/sample - loss: 0.0974 - accuracy: 0.9789 - val_loss: 0.1006 - val_accuracy: 0.9744\n",
      "Epoch 53/1000\n",
      "5262/5262 [==============================] - 2s 297us/sample - loss: 0.1052 - accuracy: 0.9755 - val_loss: 0.0853 - val_accuracy: 0.9846\n",
      "Epoch 54/1000\n",
      "5262/5262 [==============================] - 2s 289us/sample - loss: 0.0966 - accuracy: 0.9804 - val_loss: 0.0825 - val_accuracy: 0.9829\n",
      "Epoch 55/1000\n"
     ]
    },
    {
     "name": "stdout",
     "output_type": "stream",
     "text": [
      "5262/5262 [==============================] - 2s 314us/sample - loss: 0.0960 - accuracy: 0.9791 - val_loss: 0.0849 - val_accuracy: 0.9795\n",
      "Epoch 56/1000\n",
      "5262/5262 [==============================] - 2s 290us/sample - loss: 0.0987 - accuracy: 0.9753 - val_loss: 0.0861 - val_accuracy: 0.9863\n",
      "Epoch 57/1000\n",
      "5262/5262 [==============================] - 2s 288us/sample - loss: 0.0941 - accuracy: 0.9770 - val_loss: 0.0915 - val_accuracy: 0.9795\n",
      "Epoch 58/1000\n",
      "5262/5262 [==============================] - 2s 304us/sample - loss: 0.0964 - accuracy: 0.9772 - val_loss: 0.0833 - val_accuracy: 0.9812\n",
      "Epoch 59/1000\n",
      "5262/5262 [==============================] - 2s 314us/sample - loss: 0.0952 - accuracy: 0.9785 - val_loss: 0.0807 - val_accuracy: 0.9829\n",
      "Epoch 60/1000\n",
      "5262/5262 [==============================] - 2s 304us/sample - loss: 0.0963 - accuracy: 0.9781 - val_loss: 0.1193 - val_accuracy: 0.9658\n",
      "Epoch 61/1000\n",
      "5262/5262 [==============================] - 2s 301us/sample - loss: 0.0934 - accuracy: 0.9797 - val_loss: 0.0932 - val_accuracy: 0.9795\n",
      "Epoch 62/1000\n",
      "5262/5262 [==============================] - 2s 302us/sample - loss: 0.0917 - accuracy: 0.9795 - val_loss: 0.0767 - val_accuracy: 0.9829\n",
      "Epoch 63/1000\n",
      "5262/5262 [==============================] - 2s 297us/sample - loss: 0.0917 - accuracy: 0.9780 - val_loss: 0.0804 - val_accuracy: 0.9812\n",
      "Epoch 64/1000\n",
      "5262/5262 [==============================] - 2s 313us/sample - loss: 0.0928 - accuracy: 0.9778 - val_loss: 0.0782 - val_accuracy: 0.9812\n",
      "Epoch 65/1000\n",
      "5262/5262 [==============================] - 2s 328us/sample - loss: 0.0910 - accuracy: 0.9783 - val_loss: 0.0933 - val_accuracy: 0.9778\n",
      "Epoch 66/1000\n",
      "5262/5262 [==============================] - 2s 322us/sample - loss: 0.0918 - accuracy: 0.9762 - val_loss: 0.0748 - val_accuracy: 0.9829\n",
      "Epoch 67/1000\n",
      "5262/5262 [==============================] - 2s 316us/sample - loss: 0.0882 - accuracy: 0.9793 - val_loss: 0.0928 - val_accuracy: 0.9795\n",
      "Epoch 68/1000\n",
      "5262/5262 [==============================] - 2s 305us/sample - loss: 0.0880 - accuracy: 0.9799 - val_loss: 0.1464 - val_accuracy: 0.9504\n",
      "Epoch 69/1000\n",
      "5262/5262 [==============================] - 2s 299us/sample - loss: 0.0988 - accuracy: 0.9757 - val_loss: 0.0768 - val_accuracy: 0.9846\n",
      "Epoch 70/1000\n",
      "5262/5262 [==============================] - 2s 318us/sample - loss: 0.0867 - accuracy: 0.9793 - val_loss: 0.0766 - val_accuracy: 0.9829\n",
      "Epoch 71/1000\n",
      "5262/5262 [==============================] - 2s 296us/sample - loss: 0.0904 - accuracy: 0.9774 - val_loss: 0.0735 - val_accuracy: 0.9863\n",
      "Epoch 72/1000\n",
      "5262/5262 [==============================] - 2s 303us/sample - loss: 0.0969 - accuracy: 0.9778 - val_loss: 0.0746 - val_accuracy: 0.9863\n",
      "Epoch 73/1000\n",
      "5262/5262 [==============================] - 2s 305us/sample - loss: 0.0906 - accuracy: 0.9785 - val_loss: 0.1133 - val_accuracy: 0.9658\n",
      "Epoch 74/1000\n",
      "5262/5262 [==============================] - 2s 289us/sample - loss: 0.0892 - accuracy: 0.9795 - val_loss: 0.0738 - val_accuracy: 0.9812\n",
      "Epoch 75/1000\n",
      "5262/5262 [==============================] - 2s 301us/sample - loss: 0.0881 - accuracy: 0.9795 - val_loss: 0.0807 - val_accuracy: 0.9829\n"
     ]
    }
   ],
   "source": [
    "model = Sequential()\n",
    "\n",
    "model.add(Dense(60, input_shape=(12, ), activation='relu',\n",
    "               kernel_regularizer=regularizers.l1_l2(l1=0.001, l2=0.001)))\n",
    "model.add(Dense(30, activation='relu',\n",
    "               kernel_regularizer=regularizers.l1_l2(l1=0.001, l2=0.001))) \n",
    "model.add(Dense(10, activation='relu',\n",
    "               kernel_regularizer=regularizers.l1_l2(l1=0.001, l2=0.001))) \n",
    "model.add(Dense(1, activation='sigmoid')) \n",
    "\n",
    "model.compile(optimizer='adam', loss='binary_crossentropy', metrics=['accuracy'])\n",
    "\n",
    "MODEL_DIR = './model/'\n",
    "if not os.path.exists(MODEL_DIR): \n",
    "    # create directory when does not exist\n",
    "    os.mkdir(MODEL_DIR)\n",
    "    \n",
    "modelpath='./model/{epoch:04d}-{val_accuracy:.4f}.h5'    \n",
    "\n",
    "# Save model when accuracy increased\n",
    "checkpointer = ModelCheckpoint(filepath=modelpath,\n",
    "                              monitor='val_accuracy',\n",
    "                              verbose=1, save_best_only=True)\n",
    "\n",
    "early_stopping = EarlyStopping(monitor='loss', patience=5)\n",
    "hist = model.fit(x_train, y_train, validation_data=(x_val, y_val), epochs=1000, \n",
    "                 batch_size=5, callbacks=[early_stopping])"
   ]
  },
  {
   "cell_type": "code",
   "execution_count": 20,
   "metadata": {},
   "outputs": [
    {
     "data": {
      "image/png": "[encoded data removed]",
      "text/plain": [
       "<Figure size 432x288 with 2 Axes>"
      ]
     },
     "metadata": {
      "needs_background": "light"
     },
     "output_type": "display_data"
    },
    {
     "name": "stdout",
     "output_type": "stream",
     "text": [
      "Model: \"sequential_4\"\n",
      "_________________________________________________________________\n",
      "Layer (type)                 Output Shape              Param #   \n",
      "=================================================================\n",
      "dense_16 (Dense)             (None, 60)                780       \n",
      "_________________________________________________________________\n",
      "dense_17 (Dense)             (None, 30)                1830      \n",
      "_________________________________________________________________\n",
      "dense_18 (Dense)             (None, 10)                310       \n",
      "_________________________________________________________________\n",
      "dense_19 (Dense)             (None, 1)                 11        \n",
      "=================================================================\n",
      "Total params: 2,931\n",
      "Trainable params: 2,931\n",
      "Non-trainable params: 0\n",
      "_________________________________________________________________\n"
     ]
    }
   ],
   "source": [
    "fig, loss_ax = plt.subplots()\n",
    "\n",
    "# double y-axis\n",
    "acc_ax = loss_ax.twinx() \n",
    "\n",
    "# y-axis (left)\n",
    "loss_ax.plot(hist.history['loss'], 'y', label='train loss')\n",
    "loss_ax.plot(hist.history['val_loss'], 'r', label='val loss')\n",
    "\n",
    "# y-axis (right)\n",
    "acc_ax.plot(hist.history['accuracy'], 'b', label='train accuracy')\n",
    "acc_ax.plot(hist.history['val_accuracy'], 'g', label='val accuracy')\n",
    "#acc_ax.set_ylim([0.0, 1.0])\n",
    "\n",
    "# axis labels\n",
    "loss_ax.set_xlabel('epoch')  \n",
    "loss_ax.set_ylabel('loss')   \n",
    "acc_ax.set_ylabel('accuracy') \n",
    "\n",
    "loss_ax.legend(loc='upper left') \n",
    "acc_ax.legend(loc='lower left')  \n",
    "\n",
    "plt.show()\n",
    "model.summary()"
   ]
  },
  {
   "cell_type": "code",
   "execution_count": 21,
   "metadata": {},
   "outputs": [
    {
     "name": "stdout",
     "output_type": "stream",
     "text": [
      "Loss= 0.06473997183430653 /Accuracy= 99.07692074775696 %\n"
     ]
    }
   ],
   "source": [
    "test_loss, test_acc = model.evaluate(x_test, y_test, batch_size=1, verbose=0)\n",
    "print('Loss=', test_loss, '/Accuracy=', (test_acc*100), '%')"
   ]
  },
  {
   "cell_type": "code",
   "execution_count": 22,
   "metadata": {},
   "outputs": [
    {
     "name": "stdout",
     "output_type": "stream",
     "text": [
      "Actual= 0.0, Predicted: [0.00368327]=> White \n",
      "Actual= 0.0, Predicted: [0.0037846]=> White \n",
      "Actual= 0.0, Predicted: [0.00468975]=> White \n",
      "Actual= 0.0, Predicted: [0.00401446]=> White \n",
      "Actual= 1.0, Predicted: [0.05428514]=> White \n",
      "Actual= 0.0, Predicted: [0.00975242]=> White \n",
      "Actual= 0.0, Predicted: [0.00534502]=> White \n",
      "Actual= 0.0, Predicted: [0.00348833]=> White \n",
      "Actual= 0.0, Predicted: [0.654464]=> Red \n",
      "Actual= 0.0, Predicted: [0.00357056]=> White \n"
     ]
    }
   ],
   "source": [
    "pd = model.predict(x_test[0:10])\n",
    "\n",
    "for i in range(len(x_test[0:10])):\n",
    "    fmt = 'Actual= {0}, Predicted: {1}'\n",
    "    print(fmt.format(y_test[i], pd[i]), end='')\n",
    "    \n",
    "    if (pd[i] >= 0.5):\n",
    "        print('=> Red ')\n",
    "    else:\n",
    "        print('=> White ')"
   ]
  }
 ],
 "metadata": {
  "kernelspec": {
   "display_name": "machine",
   "language": "python",
   "name": "machine"
  },
  "language_info": {
   "codemirror_mode": {
    "name": "ipython",
    "version": 3
   },
   "file_extension": ".py",
   "mimetype": "text/x-python",
   "name": "python",
   "nbconvert_exporter": "python",
   "pygments_lexer": "ipython3",
   "version": "3.6.9"
  }
 },
 "nbformat": 4,
 "nbformat_minor": 2
}
