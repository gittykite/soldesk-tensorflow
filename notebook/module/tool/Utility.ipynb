{
 "cells": [
  {
   "cell_type": "code",
   "execution_count": 1,
   "metadata": {},
   "outputs": [],
   "source": [
    "if __name__ == '__main__':\n",
    "    print(maxsu(1000, 2000))\n",
    "    print(minsu(1000, 2000))\n",
    "    print(swap(1000, 2000))\n",
    "\n",
    "def maxsu(su1, su2):\n",
    "    if su1 > su2:\n",
    "        return su1\n",
    "    else:\n",
    "        return su2\n",
    "\n",
    "\n",
    "def minsu(su1, su2):\n",
    "    if su1 < su2:\n",
    "        return su1\n",
    "    else:\n",
    "        return su2\n",
    "\n",
    "\n",
    "def swap(su1, su2):\n",
    "    temp = su1\n",
    "    su1 = su2\n",
    "    su2 = temp\n",
    "\n",
    "    return su1, su2"
   ]
  }
 ],
 "metadata": {
  "kernelspec": {
   "display_name": "machine",
   "language": "python",
   "name": "machine"
  },
  "language_info": {
   "codemirror_mode": {
    "name": "ipython",
    "version": 3
   },
   "file_extension": ".py",
   "mimetype": "text/x-python",
   "name": "python",
   "nbconvert_exporter": "python",
   "pygments_lexer": "ipython3",
   "version": "3.6.9"
  }
 },
 "nbformat": 4,
 "nbformat_minor": 2
}
