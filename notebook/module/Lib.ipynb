{
 "cells": [
  {
   "cell_type": "code",
   "execution_count": 3,
   "metadata": {},
   "outputs": [],
   "source": [
    "def absolute(su1):\n",
    "    if su1 < 0:\n",
    "        su1 = su1 * -1\n",
    "\n",
    "    return su1"
   ]
  },
  {
   "cell_type": "markdown",
   "metadata": {},
   "source": [
    "### Import Modules\n",
    "+ __name__\n",
    "     - __main__ : run independantly\n",
    "     - Lib (Module_Name): run while imported"
   ]
  },
  {
   "cell_type": "code",
   "execution_count": 4,
   "metadata": {},
   "outputs": [
    {
     "name": "stdout",
     "output_type": "stream",
     "text": [
      "__main__\n",
      "Lib only\n"
     ]
    }
   ],
   "source": [
    "print('__name__:' + __name__)\n",
    "\n",
    "if __name__ == '__main__':\n",
    "    print('Lib only')\n",
    "else:    \n",
    "    print('Lib imported')"
   ]
  }
 ],
 "metadata": {
  "kernelspec": {
   "display_name": "machine",
   "language": "python",
   "name": "machine"
  },
  "language_info": {
   "codemirror_mode": {
    "name": "ipython",
    "version": 3
   },
   "file_extension": ".py",
   "mimetype": "text/x-python",
   "name": "python",
   "nbconvert_exporter": "python",
   "pygments_lexer": "ipython3",
   "version": "3.6.9"
  }
 },
 "nbformat": 4,
 "nbformat_minor": 2
}
