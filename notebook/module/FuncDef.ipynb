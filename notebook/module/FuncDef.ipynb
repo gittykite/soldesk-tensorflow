{
 "cells": [
  {
   "cell_type": "markdown",
   "metadata": {},
   "source": [
    "### Defining Functions\n",
    "+ parameter -> argument\n",
    "+ Method Overriding not supported\n",
    "    - use flexibe arguments instead\n",
    "+ flexible arguments\n",
    "    - *actors: pass args in tuple\n",
    "    - **actors: pass args in dictionary \n",
    "+ returns\n",
    "    - multiple return avialable\n",
    "    - default return in tuple\n",
    "+ scope\n",
    "    - local\n",
    "    - unlocal\n",
    "    - global\n",
    "    "
   ]
  },
  {
   "cell_type": "code",
   "execution_count": 8,
   "metadata": {},
   "outputs": [],
   "source": [
    "def movie1(name):  # single paramenter\n",
    "    print('영화명: ' + name)    \n",
    "    \n",
    "def movie2(name, genre):  # multiple parameters\n",
    "    print('영화명: ' + name)        \n",
    "    print('장  르: ' + genre)    \n",
    "    \n",
    "def movie3(name, genre, score=5.0):  # default score=5.0\n",
    "    print('영화명: ' + name)        \n",
    "    print('장  르: ' + genre)  \n",
    "    print('평  점: ' + str(score))    "
   ]
  },
  {
   "cell_type": "code",
   "execution_count": null,
   "metadata": {},
   "outputs": [],
   "source": [
    "movie1('벌새')\n",
    "movie2('벌새', '드라마')\n",
    "movie3 ('배심원', '드라마')\n",
    "movie3('벌새', '드라마', score=10)"
   ]
  },
  {
   "cell_type": "code",
   "execution_count": 11,
   "metadata": {},
   "outputs": [
    {
     "name": "stdout",
     "output_type": "stream",
     "text": [
      "영화명: 벌새\n",
      "시  간: 135\n",
      "장  르: 드라마\n",
      "영화명: 벌새\n",
      "시  간: 135\n",
      "장  르: 드라마\n"
     ]
    }
   ],
   "source": [
    "def movie4(time, name, genre):\n",
    "    print('영화명: ' + name)        \n",
    "    print('시  간: ' + str(time))  \n",
    "    print('장  르: ' + genre)    \n",
    "    \n",
    "movie4(135, '벌새', '드라마')\n",
    "movie4(name='벌새', genre='드라마', time=135)"
   ]
  },
  {
   "cell_type": "code",
   "execution_count": 13,
   "metadata": {},
   "outputs": [
    {
     "name": "stdout",
     "output_type": "stream",
     "text": [
      "<class 'tuple'>\n",
      "('박지후', '박수연', '김새벽', '김보라')\n"
     ]
    }
   ],
   "source": [
    "def movie5(*actors):  # tuple, 가변인자 처리\n",
    "    print(type(actors))\n",
    "    print(actors)\n",
    "    \n",
    "movie5('박지후', '박수연', '김새벽', '김보라')    "
   ]
  },
  {
   "cell_type": "code",
   "execution_count": 22,
   "metadata": {},
   "outputs": [
    {
     "name": "stdout",
     "output_type": "stream",
     "text": [
      "I am local\n"
     ]
    }
   ],
   "source": [
    "str1 = 'I am global'\n",
    "def func1():\n",
    "    str1 = 'I am local'  # priorily refer local variable \n",
    "    print(str1)\n",
    "\n",
    "func1()    "
   ]
  },
  {
   "cell_type": "code",
   "execution_count": 24,
   "metadata": {},
   "outputs": [
    {
     "name": "stdout",
     "output_type": "stream",
     "text": [
      "localized\n",
      "localized\n"
     ]
    }
   ],
   "source": [
    "def func2():\n",
    "    global str1       # use global variable (not recommended)\n",
    "    str1 = 'localized'\n",
    "    print(str1)\n",
    "\n",
    "func2()    \n",
    "print(str1)"
   ]
  },
  {
   "cell_type": "code",
   "execution_count": 28,
   "metadata": {},
   "outputs": [
    {
     "name": "stdout",
     "output_type": "stream",
     "text": [
      "23\n"
     ]
    }
   ],
   "source": [
    "def maxno(x, y):\n",
    "    if(x >= y):\n",
    "        return x\n",
    "    else:\n",
    "        return y\n",
    "    \n",
    "m = maxno(10, 23)\n",
    "print(m)"
   ]
  },
  {
   "cell_type": "code",
   "execution_count": 29,
   "metadata": {},
   "outputs": [
    {
     "data": {
      "text/plain": [
       "'input 1 ~ 3 only'"
      ]
     },
     "execution_count": 29,
     "metadata": {},
     "output_type": "execute_result"
    }
   ],
   "source": [
    "def season(month):\n",
    "    season=''\n",
    "    if month == 1:\n",
    "        season='January'\n",
    "    elif month == 2:\n",
    "        season='February'\n",
    "    elif month == 3:\n",
    "        season=\"March\"\n",
    "    else:\n",
    "        season=\"input 1 ~ 3 only\"\n",
    "    \n",
    "    return season\n",
    "\n",
    "\n",
    "season(1)\n",
    "season(2)\n",
    "season(12)"
   ]
  },
  {
   "cell_type": "code",
   "execution_count": 32,
   "metadata": {},
   "outputs": [
    {
     "name": "stdout",
     "output_type": "stream",
     "text": [
      "30 20 10\n",
      "(3, 2, 1)\n"
     ]
    }
   ],
   "source": [
    "def reverse(x, y, z):\n",
    "    return z, y, x\n",
    "\n",
    "r1, r2, r3 = reverse(10, 20, 30)\n",
    "print(r1, r2, r3)\n",
    "\n",
    "r = reverse(1, 2, 3)\n",
    "print(r)"
   ]
  },
  {
   "cell_type": "code",
   "execution_count": 34,
   "metadata": {},
   "outputs": [
    {
     "name": "stdout",
     "output_type": "stream",
     "text": [
      "1 2 A B\n"
     ]
    }
   ],
   "source": [
    "def data():\n",
    "    return (1,2), ('A', 'B')\n",
    "\n",
    "# a, b, c, d = data()\n",
    "(a, b), (c, d) = data()\n",
    "print(a, b, c, d)"
   ]
  },
  {
   "cell_type": "code",
   "execution_count": 36,
   "metadata": {},
   "outputs": [
    {
     "name": "stdout",
     "output_type": "stream",
     "text": [
      "[1, 2, 3]\n"
     ]
    }
   ],
   "source": [
    "def data2():\n",
    "    return [1, 2, 3]\n",
    "\n",
    "r = data2()\n",
    "print(r)"
   ]
  },
  {
   "cell_type": "code",
   "execution_count": 38,
   "metadata": {},
   "outputs": [
    {
     "name": "stdout",
     "output_type": "stream",
     "text": [
      "([1, 2, 3], ['A', 'B'])\n",
      "[1, 2, 3]\n",
      "['A', 'B']\n"
     ]
    }
   ],
   "source": [
    "def data3():\n",
    "    return [1,2, 3], ['A', 'B']\n",
    "\n",
    "r = data3()\n",
    "print(r)\n",
    "\n",
    "r1, r2 = data3()\n",
    "print(r1)\n",
    "print(r2)"
   ]
  }
 ],
 "metadata": {
  "kernelspec": {
   "display_name": "machine",
   "language": "python",
   "name": "machine"
  },
  "language_info": {
   "codemirror_mode": {
    "name": "ipython",
    "version": 3
   },
   "file_extension": ".py",
   "mimetype": "text/x-python",
   "name": "python",
   "nbconvert_exporter": "python",
   "pygments_lexer": "ipython3",
   "version": "3.6.9"
  }
 },
 "nbformat": 4,
 "nbformat_minor": 2
}
