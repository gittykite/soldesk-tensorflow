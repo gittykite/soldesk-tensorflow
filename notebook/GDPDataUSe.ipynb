{
 "cells": [
  {
   "cell_type": "code",
   "execution_count": 2,
   "metadata": {},
   "outputs": [
    {
     "name": "stdout",
     "output_type": "stream",
     "text": [
      "instance on memory\n",
      "instnace off memory\n"
     ]
    }
   ],
   "source": [
    "import oop.GDPData\n",
    "\n",
    "# gdp = oop.GDPdata() => ERROR \n",
    "gdp1 = oop.GDPData.GDPData() # ref class => PKG_NAME.FILE_NAME.CLASS_NAME\n",
    "print(gdp1.getGDP(\"KO\"))"
   ]
  },
  {
   "cell_type": "code",
   "execution_count": 10,
   "metadata": {},
   "outputs": [
    {
     "name": "stdout",
     "output_type": "stream",
     "text": [
      "instance on memory\n",
      "instnace off memory\n",
      "1630\n"
     ]
    }
   ],
   "source": [
    "from oop import GDPData\n",
    "\n",
    "gdp2 = GDPData.GDPData()\n",
    "print(gdp2.getGDP(\"JP\"))"
   ]
  },
  {
   "cell_type": "code",
   "execution_count": 13,
   "metadata": {},
   "outputs": [
    {
     "name": "stdout",
     "output_type": "stream",
     "text": [
      "instance on memory\n",
      "instnace off memory\n",
      "21440\n"
     ]
    }
   ],
   "source": [
    "from oop.GDPData import *\n",
    "\n",
    "gdp3 = GDPData()\n",
    "print(gdp3.getGDP(\"EN\"))"
   ]
  },
  {
   "cell_type": "code",
   "execution_count": 15,
   "metadata": {},
   "outputs": [
    {
     "name": "stdout",
     "output_type": "stream",
     "text": [
      "instance on memory\n",
      "21440\n"
     ]
    }
   ],
   "source": [
    "from oop.GDPData import GDPData\n",
    "\n",
    "gdp4 = GDPData()\n",
    "print(gdp4.getGDP(\"EN\"))"
   ]
  }
 ],
 "metadata": {
  "kernelspec": {
   "display_name": "Python 3",
   "language": "python",
   "name": "python3"
  },
  "language_info": {
   "codemirror_mode": {
    "name": "ipython",
    "version": 3
   },
   "file_extension": ".py",
   "mimetype": "text/x-python",
   "name": "python",
   "nbconvert_exporter": "python",
   "pygments_lexer": "ipython3",
   "version": "3.6.4"
  }
 },
 "nbformat": 4,
 "nbformat_minor": 2
}
