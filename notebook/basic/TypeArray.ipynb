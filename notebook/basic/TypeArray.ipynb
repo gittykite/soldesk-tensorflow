{
 "cells": [
  {
   "cell_type": "markdown",
   "metadata": {},
   "source": [
    "# 파이썬의 배열 형식\n",
    "- 자료를 나열하여 목록으로 처리\n",
    "- '[', ']' 문자를 이용하여 표현\n",
    "\n",
    "## 종류\n",
    "+ 리스트(List) \n",
    "    - 원본 값 변경 가능 \n",
    "+ 튜플(tuple)\n",
    "    - 원본 값 변경 불가\n",
    "+ 사전(Dictionary)\n",
    "    - 키와 값의 참조구조 \n",
    "    - JAVA의 Map과 유사\n",
    "\n",
    "## 요소 참조\n",
    "- 시작 인덱스는 0부터 시작하며 - 인덱스는 요소의 끝부터 -1을 시작으로 지정함.\n",
    "- [시작 인덱스: 마지막 인덱스]: 시작 index부터 마지막 index-1 부분까지 요소 추출 \n",
    "- [: 마지막 인덱스]: 처음부터 마지막 index-1 부분까지 요소 추출 \n",
    "- [시작 인덱스:] : 시작 index부터 마지막까지 요소 추출\n",
    "- [::2]: step을 2로해서 요소 슬라이싱. \n",
    "\n",
    "## 관련 함수\n",
    "+ len()\n",
    "    - len(matrix)\n",
    "    - len(matrix[0])\n",
    "+ insert()\n",
    "+ append()\n",
    "+ remove()\n",
    "    - remove(data[0])\n",
    "    - remove(150)\n",
    "+ sort()\n",
    "    - sort(data, reverse=True)\n",
    "    - sort(data, key=str.lower)"
   ]
  },
  {
   "cell_type": "code",
   "execution_count": 38,
   "metadata": {},
   "outputs": [
    {
     "name": "stdout",
     "output_type": "stream",
     "text": [
      "<class 'list'>\n",
      "cat\n",
      "rat\n"
     ]
    }
   ],
   "source": [
    "data = ['cat', 'bat', 'rat'] # Python의 배열 형식\n",
    "\n",
    "print(type(data))\n",
    "print(data[0])\n",
    "print(data[-1])"
   ]
  },
  {
   "cell_type": "code",
   "execution_count": 39,
   "metadata": {},
   "outputs": [
    {
     "name": "stdout",
     "output_type": "stream",
     "text": [
      "[['cat', 'bat', 'rat'], [10, 20, 30]]\n",
      "['cat', 'bat', 'rat']\n",
      "cat\n",
      "2\n",
      "3\n",
      "3\n",
      "[['cat', 'bat', 'rat'], [10, 20, 30], [1, 2]]\n"
     ]
    }
   ],
   "source": [
    "data = [['cat', 'bat', 'rat'],[10, 20, 30]]  # 2차원 배열\n",
    "\n",
    "print(data)\n",
    "print(data[0])          #  [row]\n",
    "print(data[0][0])       # [row][col]\n",
    "\n",
    "print(len(data))       # num of rows\n",
    "print(len(data[0]))    # num of cols in first row\n",
    "print(len(data[0][0])) # num of\n",
    "\n",
    "data.append([1,2])    # 요소 추가\n",
    "print(data)"
   ]
  },
  {
   "cell_type": "code",
   "execution_count": 40,
   "metadata": {},
   "outputs": [
    {
     "name": "stdout",
     "output_type": "stream",
     "text": [
      "[['cat', 'bat', 'rat'], [10, 20, 30], [1, 2], 'A', 'B', 'C']\n",
      "[['cat', 'bat', 'rat'], [10, 20, 30], [1, 2], ['A', 'B', 'C']]\n"
     ]
    }
   ],
   "source": [
    "data2 = data + ['A', 'B', 'C']\n",
    "print(data2)  # scala 형식으로 추가 \n",
    "\n",
    "data3 = data + [['A', 'B', 'C']]\n",
    "print(data3)  # 1차원 tensor(1차원 배열) 형태로 추가"
   ]
  },
  {
   "cell_type": "code",
   "execution_count": 41,
   "metadata": {},
   "outputs": [
    {
     "name": "stdout",
     "output_type": "stream",
     "text": [
      "  1  20  30\n",
      "[100, 1, 20, 30]\n",
      "[100, 1, 20, 30, 200]\n",
      "[100, 150, 20, 30, 200]\n",
      "[100, 150, 20, 200]\n"
     ]
    }
   ],
   "source": [
    "data = [1, 20, 30]\n",
    "a, b, c = data\n",
    "print('%3d %3d %3d' % (a, b, c))\n",
    "\n",
    "data.insert(0, 100) # add before first component\n",
    "print(data)\n",
    "\n",
    "data.append(200) # add after last component\n",
    "print(data)\n",
    "\n",
    "data[1] = 150\n",
    "print(data)\n",
    "\n",
    "data.remove(data[3])\n",
    "print(data)"
   ]
  },
  {
   "cell_type": "code",
   "execution_count": 42,
   "metadata": {},
   "outputs": [
    {
     "name": "stdout",
     "output_type": "stream",
     "text": [
      "[110, 100]\n"
     ]
    }
   ],
   "source": [
    "data = [100, 110, 100]\n",
    "data.remove(100)        # remove first element taht mathces\n",
    "#data.remove(1)         # occur ValueError when doesn not exists\n",
    "print(data)"
   ]
  },
  {
   "cell_type": "code",
   "execution_count": 43,
   "metadata": {},
   "outputs": [
    {
     "name": "stdout",
     "output_type": "stream",
     "text": [
      "[100, 150, 'a', 'A', '가', '나']\n"
     ]
    }
   ],
   "source": [
    "data = [100, 150, \"a\", \"A\", \"가\", \"나\"]\n",
    "print(data)"
   ]
  },
  {
   "cell_type": "code",
   "execution_count": 44,
   "metadata": {},
   "outputs": [
    {
     "name": "stdout",
     "output_type": "stream",
     "text": [
      "[100, 150, 200, 400, 500]\n",
      "[500, 400, 200, 150, 100]\n"
     ]
    }
   ],
   "source": [
    "data = [500, 400, 100, 150, 200]\n",
    "\n",
    "data.sort()\n",
    "print(data)\n",
    "\n",
    "data.sort(reverse=True)\n",
    "print(data)"
   ]
  },
  {
   "cell_type": "code",
   "execution_count": 45,
   "metadata": {},
   "outputs": [
    {
     "name": "stdout",
     "output_type": "stream",
     "text": [
      "['A', 'Z', 'a', 'z', '가', '나']\n",
      "['A', 'a', 'Z', 'z', '가', '나']\n"
     ]
    }
   ],
   "source": [
    "data = [\"a\", \"z\", \"A\", \"Z\", \"가\", \"나\"]\n",
    "\n",
    "data.sort()  # 문자 코드표 기준 정렬\n",
    "print(data) \n",
    "\n",
    "data.sort(key=str.lower)  # 문자의미 기준 정렬\n",
    "print(data) "
   ]
  },
  {
   "cell_type": "code",
   "execution_count": 46,
   "metadata": {},
   "outputs": [
    {
     "name": "stdout",
     "output_type": "stream",
     "text": [
      "['3', '0', '0']\n",
      "<class 'str'>\n",
      "3,0,0\n"
     ]
    }
   ],
   "source": [
    "drinking = 3\n",
    "life = 0\n",
    "family = 0\n",
    "\n",
    "data=[]\n",
    "data.append(str(drinking))  # 숫자를 문자열로 변경하여 저장\n",
    "data.append(str(life))\n",
    "data.append(str(family))\n",
    "\n",
    "print(data)\n",
    "\n",
    "data2 = \",\".join(data)\n",
    "print(type(data2))\n",
    "print(data2)"
   ]
  },
  {
   "cell_type": "markdown",
   "metadata": {},
   "source": [
    "### Tuple Type\n",
    "+ used by data pre-process lib\n",
    "+ cannot change elements\n",
    "+ format: (1, 'a', 2.5)"
   ]
  },
  {
   "cell_type": "code",
   "execution_count": 47,
   "metadata": {},
   "outputs": [
    {
     "name": "stdout",
     "output_type": "stream",
     "text": [
      "<class 'tuple'>\n",
      "('hello', 42, 0.5)\n"
     ]
    }
   ],
   "source": [
    "data = ('hello', 42, 0.5) # 값 변경 불가능\n",
    "print(type(data))\n",
    "print(data)"
   ]
  },
  {
   "cell_type": "code",
   "execution_count": 48,
   "metadata": {},
   "outputs": [
    {
     "name": "stdout",
     "output_type": "stream",
     "text": [
      "<class 'str'>\n",
      "<class 'str'>\n",
      "<class 'tuple'>\n",
      "<class 'list'>\n"
     ]
    }
   ],
   "source": [
    "print(type('hello'))\n",
    "print(type(('hello')))    # \n",
    "print(type(('hello',)))   # use comma for 1 element tuple\n",
    "print(type(['hello']))\n",
    "\n",
    "# data[0] = 'machine'  # TypeError occurrs (item assignment not supported)"
   ]
  },
  {
   "cell_type": "markdown",
   "metadata": {},
   "source": [
    "### Dictionary Type\n",
    "+ data structure: key & value pairs \n",
    "+ format: {}\n",
    "+ dict()\n",
    "    - dict(key1=val1, key2=val2 ...)"
   ]
  },
  {
   "cell_type": "code",
   "execution_count": 49,
   "metadata": {},
   "outputs": [
    {
     "name": "stdout",
     "output_type": "stream",
     "text": [
      "{'year': 1, 'score': 10.5, 'season': '여름'}\n",
      "1\n",
      "2019\n",
      "요소의 갯수: 3\n"
     ]
    }
   ],
   "source": [
    "dict1={'year': 1, 'score': 10.5, 'season': '여름'}\n",
    "print(dict1) # 출력 순서가 다를수 있음\n",
    "print(dict1['year'])\n",
    "\n",
    "dict1['year'] = 2019\n",
    "print(dict1['year'])\n",
    "print('요소의 갯수:', len(dict1))"
   ]
  },
  {
   "cell_type": "code",
   "execution_count": 50,
   "metadata": {},
   "outputs": [
    {
     "name": "stdout",
     "output_type": "stream",
     "text": [
      "<class 'dict'>\n",
      "{'year': 2019, 'score': 1200, 'lang': 'Python'}\n"
     ]
    }
   ],
   "source": [
    "dict2 = dict(year=2019, score=1200, lang='Python')\n",
    "print(type(dict2))\n",
    "print(dict2)"
   ]
  }
 ],
 "metadata": {
  "kernelspec": {
   "display_name": "machine",
   "language": "python",
   "name": "machine"
  },
  "language_info": {
   "codemirror_mode": {
    "name": "ipython",
    "version": 3
   },
   "file_extension": ".py",
   "mimetype": "text/x-python",
   "name": "python",
   "nbconvert_exporter": "python",
   "pygments_lexer": "ipython3",
   "version": "3.6.9"
  }
 },
 "nbformat": 4,
 "nbformat_minor": 2
}
