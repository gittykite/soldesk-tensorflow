{
 "cells": [
  {
   "cell_type": "markdown",
   "metadata": {},
   "source": [
    "# 시퀀스 Type\n",
    "+ mutable(가변, 값 변경 가능) 시퀀스\n",
    "    - list(*), bytes, bytearray\n",
    "+ immutable(불변, 값 변경 불가능) 시퀀스\n",
    "    - str(*), tuple(*), range\n",
    "+ operator\n",
    "\n",
    "|operator|func|\n",
    "|---|---|\n",
    "| + | concatenate seqs |\n",
    "| * | repeat seqs |\n",
    "\n",
    "\n",
    "+ 문자열 포맷\n",
    "    - %s: 하나의 문자열 대응\n",
    "    - %c: 문자나 하나의 기호에 대응\n",
    "    - %f: 하나의 실수에 대응\n",
    "    - %d: 하나의 정수에 대응\n",
    "    - %%: '%' 기호의 출력\n",
    " \n",
    " \n",
    "+ 이스케이프 문자\n",
    "    - \\n: 줄 바꾸기\n",
    "    - \\t: Tab\n",
    "    - \\ + Enter: 줄 계속\n",
    "    - \\\\: '\\' 출력\n",
    "    - \\', \\\": ', \"의 출력 \n",
    "  "
   ]
  },
  {
   "cell_type": "code",
   "execution_count": 5,
   "metadata": {},
   "outputs": [
    {
     "name": "stdout",
     "output_type": "stream",
     "text": [
      "Web Scraping\n",
      "W\n",
      "g\n",
      "We\n",
      "We\n",
      "b Scraping\n",
      "Web Scraping\n"
     ]
    }
   ],
   "source": [
    "title = 'Web Scraping'\n",
    "\n",
    "print(title)\n",
    "print(title[0])\n",
    "print(title[-1])\n",
    "print(title[0:2]) # 0 ~ [last index - 1] \n",
    "print(title[:2]) # 0 ~ [last index - 1] \n",
    "print(title[2:]) # 2 ~ [last index]\n",
    "print(title[:])  # all"
   ]
  },
  {
   "cell_type": "code",
   "execution_count": 6,
   "metadata": {},
   "outputs": [
    {
     "name": "stdout",
     "output_type": "stream",
     "text": [
      "AI AI \n",
      "6\n",
      "True\n",
      "True\n"
     ]
    }
   ],
   "source": [
    "title = \"AI \" * 2\n",
    "\n",
    "print(title)\n",
    "print(len(title))\n",
    "print('A' in 'AI 2019')\n",
    "print('AI' in 'AI 2019')"
   ]
  }
 ],
 "metadata": {
  "kernelspec": {
   "display_name": "machine",
   "language": "python",
   "name": "machine"
  },
  "language_info": {
   "codemirror_mode": {
    "name": "ipython",
    "version": 3
   },
   "file_extension": ".py",
   "mimetype": "text/x-python",
   "name": "python",
   "nbconvert_exporter": "python",
   "pygments_lexer": "ipython3",
   "version": "3.6.9"
  }
 },
 "nbformat": 4,
 "nbformat_minor": 2
}
