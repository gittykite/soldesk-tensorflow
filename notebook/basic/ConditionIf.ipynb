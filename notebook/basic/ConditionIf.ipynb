{
 "cells": [
  {
   "cell_type": "markdown",
   "metadata": {},
   "source": [
    " ### IF 제어문\n",
    "+ 키워드\n",
    "    - if\n",
    "    - elif\n",
    "    - else\n",
    "    - or\n",
    "    - and\n",
    "    - not\n",
    "+ 들여쓰기(indent)\n",
    "    - if block requires indent(2~4spaces)\n",
    "    - all indent in if block must have same spaces \n",
    "    - shortcut: 'TAB' <-> 'Shift+TAB'"
   ]
  },
  {
   "cell_type": "code",
   "execution_count": 2,
   "metadata": {
    "scrolled": true
   },
   "outputs": [
    {
     "name": "stdout",
     "output_type": "stream",
     "text": [
      "투표 가능\n"
     ]
    }
   ],
   "source": [
    "age = 19\n",
    "vote = '투표 가능' if age >= 19 else '투표 불가능' # 3항 연산자\n",
    "print(vote)"
   ]
  },
  {
   "cell_type": "code",
   "execution_count": 4,
   "metadata": {},
   "outputs": [
    {
     "name": "stdout",
     "output_type": "stream",
     "text": [
      "pass\n",
      "award get\n"
     ]
    }
   ],
   "source": [
    "tot = 80\n",
    "\n",
    "if tot >= 80:\n",
    "    print('pass')        # req indent \n",
    "print('award get')"
   ]
  },
  {
   "cell_type": "code",
   "execution_count": 6,
   "metadata": {},
   "outputs": [
    {
     "name": "stdout",
     "output_type": "stream",
     "text": [
      "짝수\n"
     ]
    }
   ],
   "source": [
    "su = 10\n",
    "\n",
    "if su % 2 == 0:\n",
    "    print('짝수')\n",
    "else:\n",
    "    print('홀수')"
   ]
  },
  {
   "cell_type": "code",
   "execution_count": 7,
   "metadata": {},
   "outputs": [
    {
     "name": "stdout",
     "output_type": "stream",
     "text": [
      "January\n"
     ]
    }
   ],
   "source": [
    "su = 1\n",
    "\n",
    "if su == 1:\n",
    "    print('January')\n",
    "elif su == 2:\n",
    "    print('February')\n",
    "elif su == 3:\n",
    "    print('March')\n",
    "else:\n",
    "    print('1~3을 입력하세요.')"
   ]
  },
  {
   "cell_type": "code",
   "execution_count": 9,
   "metadata": {},
   "outputs": [
    {
     "name": "stdout",
     "output_type": "stream",
     "text": [
      "채용 합격\n",
      "-> 프로젝트 참여\n"
     ]
    }
   ],
   "source": [
    "test = 85\n",
    "\n",
    "if (test >= 60):\n",
    "    print('채용 합격')\n",
    "    if test >= 85:\n",
    "        print('-> 프로젝트 참여') # 85 ~\n",
    "    else:\n",
    "        print('-> 추가교육 1개월') # 60 ~ 84\n",
    "else:\n",
    "    print('다음 기회에 시도해주세요.')"
   ]
  },
  {
   "cell_type": "code",
   "execution_count": 11,
   "metadata": {},
   "outputs": [
    {
     "name": "stdout",
     "output_type": "stream",
     "text": [
      "등급: C\n"
     ]
    }
   ],
   "source": [
    "score = 70\n",
    "str1=''\n",
    "\n",
    "if score >= 90:\n",
    "    str1 = 'A'\n",
    "elif score >= 80 and score <= 89:\n",
    "    str1 = 'B'\n",
    "elif score >= 70 and score <= 79:\n",
    "    str1 = 'C'\n",
    "elif score >= 60 and score <= 69:\n",
    "    str1 = 'D'    \n",
    "else:\n",
    "    str = 'F'\n",
    "    \n",
    "print('등급: ' + str1)    "
   ]
  },
  {
   "cell_type": "code",
   "execution_count": 12,
   "metadata": {},
   "outputs": [
    {
     "name": "stdout",
     "output_type": "stream",
     "text": [
      "겨울입니다.\n"
     ]
    }
   ],
   "source": [
    "month = 12\n",
    "if (month == 12 or month == 1 or month == 2):\n",
    "    print('겨울입니다.') "
   ]
  },
  {
   "cell_type": "code",
   "execution_count": null,
   "metadata": {},
   "outputs": [],
   "source": []
  }
 ],
 "metadata": {
  "kernelspec": {
   "display_name": "machine",
   "language": "python",
   "name": "machine"
  },
  "language_info": {
   "codemirror_mode": {
    "name": "ipython",
    "version": 3
   },
   "file_extension": ".py",
   "mimetype": "text/x-python",
   "name": "python",
   "nbconvert_exporter": "python",
   "pygments_lexer": "ipython3",
   "version": "3.6.9"
  }
 },
 "nbformat": 4,
 "nbformat_minor": 2
}
