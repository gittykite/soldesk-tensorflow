{
 "cells": [
  {
   "cell_type": "markdown",
   "metadata": {},
   "source": [
    "### 데이터 타입"
   ]
  },
  {
   "cell_type": "code",
   "execution_count": 3,
   "metadata": {},
   "outputs": [],
   "source": [
    "# sw = true\n",
    "\n",
    "sw = True\n",
    "sw = False"
   ]
  },
  {
   "cell_type": "code",
   "execution_count": 11,
   "metadata": {},
   "outputs": [
    {
     "name": "stdout",
     "output_type": "stream",
     "text": [
      "sw = False\n",
      "sw =  False\n",
      "sw = False\n"
     ]
    }
   ],
   "source": [
    "print(\"sw = \" + str(sw))\n",
    "\n",
    "print(\"sw = \", sw)\n",
    "print(\"sw = %s\"% sw)\n"
   ]
  },
  {
   "cell_type": "code",
   "execution_count": 13,
   "metadata": {},
   "outputs": [
    {
     "name": "stdout",
     "output_type": "stream",
     "text": [
      "sw=     False\n",
      "sw=False     \n",
      "      2019\n"
     ]
    }
   ],
   "source": [
    "print(\"sw=%10s\" % sw)   #  right align, size=10\n",
    "print(\"sw=%-10s\" % sw)  # left algin, size=10\n",
    "print(\"%10d\" % 2019)    # size=10"
   ]
  },
  {
   "cell_type": "code",
   "execution_count": 4,
   "metadata": {
    "scrolled": true
   },
   "outputs": [
    {
     "name": "stdout",
     "output_type": "stream",
     "text": [
      " 10.560000\n",
      "10.6\n",
      "1000.5\n",
      "1000.6\n",
      "1000.6\n",
      " 10.5\n",
      " 10.5%\n"
     ]
    }
   ],
   "source": [
    "print(\"%10f\" % 10.56)    # 소수 6째 자리까지 출력\n",
    "\n",
    "print(\"%.1f\" % 10.56)    # 반올림\n",
    "print(\"%3.1f\" % 1000.55) # 5는 반올림 안 됨\n",
    "print(\"%3.1f\" % 1000.551) # 연속 반올림 됨\n",
    "\n",
    "print(\"%3.1f\" % 1000.56) # 정수부분은 자리수와 상관없이 출력, 반올림\n",
    "print(\"%5.1f\" % 10.5)    # 정수 3자리, 소수점 1자리, 소수 1자리 출력\n",
    "print(\"%5.1f%%\" % 10.5)  # % "
   ]
  },
  {
   "cell_type": "code",
   "execution_count": 17,
   "metadata": {},
   "outputs": [
    {
     "name": "stdout",
     "output_type": "stream",
     "text": [
      "f(x) = 2x + 3\n"
     ]
    }
   ],
   "source": [
    "print(\"f(x) = {0}x + {1}\".format(2, 3)) # f(x) = 2x + 3"
   ]
  },
  {
   "cell_type": "code",
   "execution_count": 21,
   "metadata": {},
   "outputs": [
    {
     "name": "stdout",
     "output_type": "stream",
     "text": [
      "<class 'bool'>\n",
      "<class 'float'>\n",
      "<class 'int'>\n",
      "<class 'str'>\n"
     ]
    }
   ],
   "source": [
    "print(type(sw))\n",
    "print(type(10.5))\n",
    "print(type(2019))\n",
    "print(type(\"string\"))"
   ]
  },
  {
   "cell_type": "markdown",
   "metadata": {},
   "source": [
    "### 연산자"
   ]
  },
  {
   "cell_type": "code",
   "execution_count": 23,
   "metadata": {},
   "outputs": [
    {
     "name": "stdout",
     "output_type": "stream",
     "text": [
      "100의 50%: 50.0\n",
      "100의 50%: 0.5\n",
      "100의 50%: 50.0\n",
      "100의 10%: 10.0\n",
      "100의 1%: 1.0\n",
      "100의 0.5%: 0.5\n"
     ]
    }
   ],
   "source": [
    "# use multiply instead of devide (diff learning rate)\n",
    "print('100의 50%:', 100 * 0.5)\n",
    "print('100의 50%:', 50 / 100)  # 0.5\n",
    "print('100의 50%:', 50 / 100 * 100)\n",
    "print('100의 10%:', 100 * 0.1)\n",
    "print('100의 1%:', 100 * 0.01)\n",
    "print('100의 0.5%:', 100 * 0.005)"
   ]
  },
  {
   "cell_type": "code",
   "execution_count": 24,
   "metadata": {
    "scrolled": true
   },
   "outputs": [
    {
     "name": "stdout",
     "output_type": "stream",
     "text": [
      "0 % 3 = 0\n",
      "3 % 3 = 0\n",
      "9 / 3 = 3.0\n",
      "10 / 3 = 3.3333333333333335\n",
      "10 // 3 = 3\n"
     ]
    }
   ],
   "source": [
    "print(\"0 % 3 =\", 0 % 3)\n",
    "print(\"3 % 3 =\", 3 % 3)      # 나머지\n",
    "print(\"9 / 3 =\", 9 / 3)      # 3.0\n",
    "print(\"10 / 3 =\", 10 / 3)\n",
    "print(\"10 // 3 =\", 10 // 3)  # 몫"
   ]
  },
  {
   "cell_type": "code",
   "execution_count": 25,
   "metadata": {},
   "outputs": [
    {
     "name": "stdout",
     "output_type": "stream",
     "text": [
      "year= 2021\n"
     ]
    }
   ],
   "source": [
    "y = 2019\n",
    "y = y + 1\n",
    "# y++  # 지원 안함.\n",
    "y += 1\n",
    "print(\"year=\", y)"
   ]
  }
 ],
 "metadata": {
  "kernelspec": {
   "display_name": "machine",
   "language": "python",
   "name": "machine"
  },
  "language_info": {
   "codemirror_mode": {
    "name": "ipython",
    "version": 3
   },
   "file_extension": ".py",
   "mimetype": "text/x-python",
   "name": "python",
   "nbconvert_exporter": "python",
   "pygments_lexer": "ipython3",
   "version": "3.6.9"
  }
 },
 "nbformat": 4,
 "nbformat_minor": 2
}
