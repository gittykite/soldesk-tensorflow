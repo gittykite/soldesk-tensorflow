{
 "cells": [
  {
   "cell_type": "markdown",
   "metadata": {},
   "source": [
    "## [실습 1] 하나의 수를 입력받아 2, 3, 4, 5의 배수인지 판단하는 프로그램을 제작하세요. \n",
    "\n",
    "### console에서의 실행"
   ]
  },
  {
   "cell_type": "code",
   "execution_count": 15,
   "metadata": {},
   "outputs": [
    {
     "name": "stdout",
     "output_type": "stream",
     "text": [
      "file name:C:\\ProgramData\\Anaconda3\\envs\\machine\\lib\\site-packages\\ipykernel_launcher.py\n",
      "-f\n",
      "입력수=100\n",
      "100은(는) 2의 배수입니다\n",
      "100은(는) 4의 배수입니다\n",
      "100은(는) 5의 배수입니다\n"
     ]
    }
   ],
   "source": [
    "import sys\n",
    "\n",
    "# get first input\n",
    "filename = sys.argv[0]\n",
    "print('file name:' + filename)  # python IfExam1.py\n",
    "\n",
    "# get second input\n",
    "try:\n",
    "    var1 = sys.argv[1] # 입력한 수\n",
    "    print(var1)\n",
    "    var2 = int(var1)\n",
    "except ValueError:\n",
    "    var1 = '100'\n",
    "    var2 = int(var1)\n",
    "\n",
    "print('입력수=' + var1)\n",
    "\n",
    "if var2 % 2 == 0:\n",
    "    print(var1 + '은(는) 2의 배수입니다')\n",
    "if var2 % 3 == 0:\n",
    "    print(var1 + '은(는) 3의 배수입니다')    \n",
    "if var2 % 4 == 0:\n",
    "    print(var1 + '은(는) 4의 배수입니다')    \n",
    "if var2 % 5 == 0:\n",
    "    print(var1 + '은(는) 5의 배수입니다')        \n",
    "\n",
    "if var2 % 2 != 0 and var2 % 3 !=0 and var2 % 4 != 0 and var2 % 5 != 0:\n",
    "    print(var1 + '은(는) 2,3,4,5의 배수가 아닙니다')\n",
    "  \n",
    "    "
   ]
  }
 ],
 "metadata": {
  "kernelspec": {
   "display_name": "machine",
   "language": "python",
   "name": "machine"
  },
  "language_info": {
   "codemirror_mode": {
    "name": "ipython",
    "version": 3
   },
   "file_extension": ".py",
   "mimetype": "text/x-python",
   "name": "python",
   "nbconvert_exporter": "python",
   "pygments_lexer": "ipython3",
   "version": "3.6.9"
  }
 },
 "nbformat": 4,
 "nbformat_minor": 2
}
