{
 "cells": [
  {
   "cell_type": "code",
   "execution_count": 6,
   "metadata": {},
   "outputs": [
    {
     "name": "stdout",
     "output_type": "stream",
     "text": [
      "2.0.0\n"
     ]
    }
   ],
   "source": [
    "import warnings\n",
    "warnings.filterwarnings(action='ignore')\n",
    "\n",
    "import time\n",
    "import sys\n",
    "import os\n",
    "import numpy as np\n",
    "import pandas as pd\n",
    "import seaborn as sb\n",
    "import tensorflow as tf\n",
    "\n",
    "from tensorflow.keras.models import Sequential  \n",
    "from tensorflow.keras.models import load_model  \n",
    "\n",
    "from tensorflow.keras.layers import Conv2D, MaxPooling2D, Flatten  \n",
    "from tensorflow.keras.layers import Dense       \n",
    "from tensorflow.keras.layers import Dropout    \n",
    "from tensorflow.keras.callbacks import EarlyStopping   \n",
    "from tensorflow.keras.callbacks import ModelCheckpoint \n",
    "from tensorflow.keras import regularizers \n",
    "from tensorflow.keras.utils import to_categorical   \n",
    "from tensorflow.keras.datasets import mnist\n",
    "from tensorflow.keras.preprocessing.image import ImageDataGenerator\n",
    "\n",
    "from sklearn.preprocessing import LabelEncoder\n",
    "from sklearn.model_selection import train_test_split \n",
    "from sklearn.model_selection import StratifiedKFold  \n",
    "\n",
    "import matplotlib.pyplot as plt\n",
    "%matplotlib inline  \n",
    "\n",
    "print(tf.__version__)"
   ]
  },
  {
   "cell_type": "markdown",
   "metadata": {},
   "source": [
    "### Generate image data"
   ]
  },
  {
   "cell_type": "code",
   "execution_count": 7,
   "metadata": {},
   "outputs": [
    {
     "name": "stdout",
     "output_type": "stream",
     "text": [
      "Found 383 images belonging to 7 classes.\n",
      "Found 70 images belonging to 7 classes.\n"
     ]
    }
   ],
   "source": [
    "width = 128\n",
    "height = 128\n",
    "\n",
    "# generate train data\n",
    "train_datagen = ImageDataGenerator(rescale=1./255)\n",
    " \n",
    "train_generator = train_datagen.flow_from_directory(\n",
    "        './train',                   # train img folder \n",
    "        target_size=(width, height), # size of train data\n",
    "        batch_size=1,                \n",
    "        class_mode='categorical')    # muliple classification\n",
    "\n",
    "# generate validation data\n",
    "vali_datagen = ImageDataGenerator(rescale=1./255)\n",
    " \n",
    "vali_generator = vali_datagen.flow_from_directory(\n",
    "        './validation',\n",
    "        target_size=(width, height),    \n",
    "        batch_size=1,\n",
    "        class_mode='categorical')"
   ]
  },
  {
   "cell_type": "markdown",
   "metadata": {},
   "source": [
    "### Create Model"
   ]
  },
  {
   "cell_type": "code",
   "execution_count": 8,
   "metadata": {},
   "outputs": [
    {
     "name": "stdout",
     "output_type": "stream",
     "text": [
      "Train for 383 steps, validate for 70 steps\n",
      "Epoch 1/50\n",
      "383/383 [==============================] - 30s 80ms/step - loss: 2.0324 - accuracy: 0.2428 - val_loss: 1.8458 - val_accuracy: 0.2714\n",
      "Epoch 2/50\n",
      "383/383 [==============================] - 30s 78ms/step - loss: 1.4859 - accuracy: 0.4674 - val_loss: 1.5186 - val_accuracy: 0.4000\n",
      "Epoch 3/50\n",
      "383/383 [==============================] - 30s 78ms/step - loss: 0.7743 - accuracy: 0.7467 - val_loss: 1.6289 - val_accuracy: 0.5571\n",
      "Epoch 4/50\n",
      "383/383 [==============================] - 30s 77ms/step - loss: 0.4817 - accuracy: 0.8381 - val_loss: 1.2410 - val_accuracy: 0.6571\n",
      "Epoch 5/50\n",
      "383/383 [==============================] - 30s 78ms/step - loss: 0.3632 - accuracy: 0.8721 - val_loss: 1.1112 - val_accuracy: 0.6429\n",
      "Epoch 6/50\n",
      "383/383 [==============================] - 29s 77ms/step - loss: 0.2611 - accuracy: 0.8982 - val_loss: 1.3439 - val_accuracy: 0.5429\n",
      "Epoch 7/50\n",
      "383/383 [==============================] - 30s 77ms/step - loss: 0.2683 - accuracy: 0.9034 - val_loss: 1.2402 - val_accuracy: 0.5857\n",
      "Epoch 8/50\n",
      "383/383 [==============================] - 30s 77ms/step - loss: 0.2058 - accuracy: 0.9452 - val_loss: 1.4692 - val_accuracy: 0.5857\n",
      "Epoch 9/50\n",
      "383/383 [==============================] - 29s 76ms/step - loss: 0.1672 - accuracy: 0.9426 - val_loss: 1.2733 - val_accuracy: 0.6143\n",
      "Epoch 10/50\n",
      "383/383 [==============================] - 29s 76ms/step - loss: 0.1448 - accuracy: 0.9373 - val_loss: 1.2809 - val_accuracy: 0.6429\n",
      "Epoch 11/50\n",
      "383/383 [==============================] - 29s 76ms/step - loss: 0.0886 - accuracy: 0.9687 - val_loss: 1.4822 - val_accuracy: 0.7000\n",
      "Epoch 12/50\n",
      "383/383 [==============================] - 30s 77ms/step - loss: 0.0845 - accuracy: 0.9661 - val_loss: 1.8671 - val_accuracy: 0.6571\n",
      "Epoch 13/50\n",
      "383/383 [==============================] - 30s 79ms/step - loss: 0.0887 - accuracy: 0.9739 - val_loss: 1.5686 - val_accuracy: 0.6571\n",
      "Epoch 14/50\n",
      "383/383 [==============================] - 29s 76ms/step - loss: 0.1394 - accuracy: 0.9452 - val_loss: 1.2814 - val_accuracy: 0.7000\n",
      "Runtime: 414.53 sec\n"
     ]
    }
   ],
   "source": [
    "model = Sequential()\n",
    "model.add(Conv2D(32, kernel_size = (3, 3), padding='same',\n",
    "                 input_shape = (width, height, 3), activation='relu'))\n",
    "model.add(Conv2D(32, (3, 3), padding='same', activation='relu'))\n",
    "model.add(MaxPooling2D(pool_size=(2, 2))) \n",
    "\n",
    "# model.add(Conv2D(16, (3, 3), padding='same', activation='relu'))\n",
    "# model.add(Conv2D(16, (3, 3), padding='same', activation='relu'))\n",
    "# model.add(MaxPooling2D(pool_size=(2, 2))) \n",
    "# model.add(Dropout(0.25)) \n",
    "\n",
    "model.add(Flatten()) \n",
    "model.add(Dense(32, activation='relu'))\n",
    "model.add(Dropout(0.25)) \n",
    "\n",
    "# 7 categories\n",
    "model.add(Dense(7, activation='softmax'))\n",
    "model.compile(optimizer='adam', loss='categorical_crossentropy', \n",
    "                                metrics=['accuracy'])\n",
    "\n",
    "early_stopping = EarlyStopping(monitor='loss', patience=2)\n",
    "\n",
    "start = time.time()\n",
    "hist = model.fit(\n",
    "    train_generator,\n",
    "    epochs = 50,\n",
    "    validation_data = vali_generator, \n",
    "    callbacks=[early_stopping])\n",
    "end = time.time()\n",
    "\n",
    "print('Runtime: {0:.2f} sec'.format(end-start))"
   ]
  },
  {
   "cell_type": "code",
   "execution_count": 9,
   "metadata": {},
   "outputs": [
    {
     "name": "stdout",
     "output_type": "stream",
     "text": [
      "Model: \"sequential_1\"\n",
      "_________________________________________________________________\n",
      "Layer (type)                 Output Shape              Param #   \n",
      "=================================================================\n",
      "conv2d_2 (Conv2D)            (None, 128, 128, 32)      896       \n",
      "_________________________________________________________________\n",
      "conv2d_3 (Conv2D)            (None, 128, 128, 32)      9248      \n",
      "_________________________________________________________________\n",
      "max_pooling2d_1 (MaxPooling2 (None, 64, 64, 32)        0         \n",
      "_________________________________________________________________\n",
      "flatten_1 (Flatten)          (None, 131072)            0         \n",
      "_________________________________________________________________\n",
      "dense_2 (Dense)              (None, 32)                4194336   \n",
      "_________________________________________________________________\n",
      "dropout_1 (Dropout)          (None, 32)                0         \n",
      "_________________________________________________________________\n",
      "dense_3 (Dense)              (None, 7)                 231       \n",
      "=================================================================\n",
      "Total params: 4,204,711\n",
      "Trainable params: 4,204,711\n",
      "Non-trainable params: 0\n",
      "_________________________________________________________________\n"
     ]
    }
   ],
   "source": [
    "model.summary()"
   ]
  },
  {
   "cell_type": "code",
   "execution_count": 10,
   "metadata": {},
   "outputs": [
    {
     "data": {
      "image/png": "[encoded data removed]",
      "text/plain": [
       "<Figure size 720x360 with 2 Axes>"
      ]
     },
     "metadata": {
      "needs_background": "light"
     },
     "output_type": "display_data"
    }
   ],
   "source": [
    "fig, loss_ax = plt.subplots()\n",
    "fig.set_size_inches(10, 5) \n",
    "\n",
    "# set y-axis\n",
    "acc_ax = loss_ax.twinx() \n",
    "\n",
    "loss_ax.plot(hist.history['loss'], 'y', label='train loss')\n",
    "loss_ax.plot(hist.history['val_loss'], 'r', label='val loss')\n",
    "loss_ax.set_ylim([0.0, 2.0]) \n",
    "\n",
    "acc_ax.plot(hist.history['accuracy'], 'b', label='train accuracy')\n",
    "acc_ax.plot(hist.history['val_accuracy'], 'g', label='val accuracy')\n",
    "acc_ax.set_ylim([0.0, 1.0])\n",
    "\n",
    "# set labels\n",
    "loss_ax.set_xlabel('epoch')  \n",
    "loss_ax.set_ylabel('loss')   \n",
    "acc_ax.set_ylabel('accuracy') \n",
    "\n",
    "loss_ax.legend(loc='upper left') \n",
    "acc_ax.legend(loc='lower left')  \n",
    "\n",
    "plt.show()"
   ]
  },
  {
   "cell_type": "code",
   "execution_count": null,
   "metadata": {},
   "outputs": [],
   "source": []
  },
  {
   "cell_type": "code",
   "execution_count": null,
   "metadata": {},
   "outputs": [],
   "source": []
  },
  {
   "cell_type": "code",
   "execution_count": null,
   "metadata": {},
   "outputs": [],
   "source": []
  }
 ],
 "metadata": {
  "kernelspec": {
   "display_name": "machine",
   "language": "python",
   "name": "machine"
  },
  "language_info": {
   "codemirror_mode": {
    "name": "ipython",
    "version": 3
   },
   "file_extension": ".py",
   "mimetype": "text/x-python",
   "name": "python",
   "nbconvert_exporter": "python",
   "pygments_lexer": "ipython3",
   "version": "3.6.9"
  }
 },
 "nbformat": 4,
 "nbformat_minor": 2
}
