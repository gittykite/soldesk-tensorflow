{
 "cells": [
  {
   "cell_type": "code",
   "execution_count": 1,
   "metadata": {},
   "outputs": [
    {
     "name": "stdout",
     "output_type": "stream",
     "text": [
      "2.0.0\n",
      "True\n"
     ]
    }
   ],
   "source": [
    "import warnings\n",
    "warnings.filterwarnings(action='ignore')\n",
    "\n",
    "import os\n",
    "import numpy as np\n",
    "import pandas as pd\n",
    "import seaborn as sb\n",
    "import tensorflow as tf\n",
    "\n",
    "from tensorflow.keras.models import Sequential  \n",
    "from tensorflow.keras.models import load_model  \n",
    "from tensorflow.keras.layers import Dense       \n",
    "from tensorflow.keras.layers import Dropout     \n",
    "from tensorflow.keras.callbacks import EarlyStopping   \n",
    "from tensorflow.keras.callbacks import ModelCheckpoint \n",
    "from tensorflow.keras import regularizers \n",
    "from tensorflow.keras.utils import to_categorical   \n",
    "from tensorflow.keras.datasets import mnist\n",
    "\n",
    "from sklearn.preprocessing import LabelEncoder\n",
    "from sklearn.model_selection import train_test_split \n",
    "from sklearn.model_selection import StratifiedKFold  \n",
    "\n",
    "import matplotlib.pyplot as plt\n",
    "%matplotlib inline  \n",
    "\n",
    "print(tf.__version__)\n",
    "print(tf.test.is_gpu_available())"
   ]
  },
  {
   "cell_type": "code",
   "execution_count": null,
   "metadata": {},
   "outputs": [],
   "source": [
    "# load data\n",
    "(x_train, y_train), (x_test, y_test)  = mnist.load_data()\n",
    "\n",
    "# transform dimension\n",
    "# 3-dimension: 60,000 * (28 * 28) \n",
    "# 2-dimension: 60,000개 * 784\n",
    "print('shape[0]:', x_train.shape[0]) \n",
    "\n",
    "# row\n",
    "print(x_train.shape[1]) \n",
    "# col\n",
    "print(x_train.shape[2]) \n",
    "\n",
    "# 60000 row  * 784 col\n",
    "x_train = x_train.reshape(x_train.shape[0], 784) \n",
    "x_train = x_train.astype('float64') \n",
    "\n",
    "# convert to float\n",
    "# standardization (0 ~ 1) => GPU is effective for float calculation\n",
    "x_train = x_train / 255 \n",
    "\n",
    "# 10000 * 784\n",
    "x_test = x_test.reshape(x_test.shape[0], 784).astype('float64') / 255 \n"
   ]
  }
 ],
 "metadata": {
  "kernelspec": {
   "display_name": "machinegpu",
   "language": "python",
   "name": "machinegpu"
  },
  "language_info": {
   "codemirror_mode": {
    "name": "ipython",
    "version": 3
   },
   "file_extension": ".py",
   "mimetype": "text/x-python",
   "name": "python",
   "nbconvert_exporter": "python",
   "pygments_lexer": "ipython3",
   "version": "3.6.9"
  }
 },
 "nbformat": 4,
 "nbformat_minor": 2
}
