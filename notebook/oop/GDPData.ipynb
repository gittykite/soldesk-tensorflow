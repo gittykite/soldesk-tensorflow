{
 "cells": [
  {
   "cell_type": "code",
   "execution_count": 1,
   "metadata": {},
   "outputs": [],
   "source": [
    "class GDPData: \n",
    "    \n",
    "    def __init__(self): \n",
    "        self.count = 0\n",
    "        print('instance on memory')\n",
    "\n",
    "    def __del__(self):  \n",
    "        print('instnace off memory')\n",
    "\n",
    "    def getNation(self, code):\n",
    "        self.count = self.count + 1\n",
    "        str1 = \"\"  \n",
    "        \n",
    "        if code == \"KO\":\n",
    "            str1 = \"Korean\"\n",
    "        elif code == \"JA\":\n",
    "            str1 = \"Japanese\"\n",
    "        elif code == \"EN\":\n",
    "            str1 = \"English\"\n",
    "        \n",
    "        return str1     \n",
    "    \n",
    "    def getGDP(self, code):\n",
    "        self.count = self.count + 1\n",
    "        gdp = 0\n",
    "        if code == \"KO\":\n",
    "            gdp = 1630\n",
    "        elif code == \"JP\":\n",
    "            gdp = 5150\n",
    "        elif code == \"EN\":\n",
    "            gdp = 21440\n",
    "        \n",
    "        return gdp\n"
   ]
  }
 ],
 "metadata": {
  "kernelspec": {
   "display_name": "Python 3",
   "language": "python",
   "name": "python3"
  },
  "language_info": {
   "codemirror_mode": {
    "name": "ipython",
    "version": 3
   },
   "file_extension": ".py",
   "mimetype": "text/x-python",
   "name": "python",
   "nbconvert_exporter": "python",
   "pygments_lexer": "ipython3",
   "version": "3.6.4"
  }
 },
 "nbformat": 4,
 "nbformat_minor": 2
}
