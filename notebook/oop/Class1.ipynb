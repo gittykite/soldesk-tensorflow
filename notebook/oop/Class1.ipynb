{
 "cells": [
  {
   "cell_type": "code",
   "execution_count": 3,
   "metadata": {},
   "outputs": [],
   "source": [
    "class Class1:\n",
    "    # class variables\n",
    "    year = 0\n",
    "    product = ''\n",
    "    price = 0\n",
    "    dc = 0\n",
    "    service = False\n",
    "    "
   ]
  },
  {
   "cell_type": "code",
   "execution_count": 4,
   "metadata": {},
   "outputs": [
    {
     "name": "stdout",
     "output_type": "stream",
     "text": [
      "2019\n",
      "SSD-2TB\n",
      "400000\n",
      "3.5\n",
      "False\n"
     ]
    }
   ],
   "source": [
    "if __name__ == '__main__':\n",
    "    # ref by class name (static)\n",
    "    Class1.year = 2019\n",
    "    Class1.product = 'SSD-2TB'\n",
    "    Class1.price = 40 * 10000\n",
    "    Class1.dc = 3.5\n",
    "    Class1.service = False\n",
    " \n",
    "    print(Class1.year)\n",
    "    print(Class1.product)\n",
    "    print(Class1.price)\n",
    "    print(Class1.dc)\n",
    "    print(Class1.service)"
   ]
  },
  {
   "cell_type": "code",
   "execution_count": 19,
   "metadata": {},
   "outputs": [
    {
     "name": "stdout",
     "output_type": "stream",
     "text": [
      "2019\n",
      "2019\n"
     ]
    }
   ],
   "source": [
    "prod1 = Class1()\n",
    "print(prod1.year)\n",
    "\n",
    "prod2 = Class1()\n",
    "print(prod2.year)"
   ]
  },
  {
   "cell_type": "code",
   "execution_count": 21,
   "metadata": {},
   "outputs": [
    {
     "name": "stdout",
     "output_type": "stream",
     "text": [
      "2020\n",
      "2021\n",
      "2019\n"
     ]
    }
   ],
   "source": [
    "prod1.year = 2020\n",
    "prod2.year = 2021\n",
    "\n",
    "print(prod1.year)\n",
    "print(prod2.year)\n",
    "print(Class1.year)"
   ]
  },
  {
   "cell_type": "code",
   "execution_count": 14,
   "metadata": {},
   "outputs": [],
   "source": [
    "class Product:\n",
    "\n",
    "    # req \"self\" argument => connect func & instance   \n",
    "    def setData1(self): \n",
    "        print('type of self:', type(self))\n",
    "        \n",
    "    def setData2(self, year, product): # self 는 전달 받지 않음.\n",
    "        self.year = year  # instance 변수, field, property, attribute, 멤버 변수, 속성...\n",
    "        self.name = name\n",
    "        self.price = 0\n",
    "        self.dc = 0\n",
    "        \n",
    "    def printData(self):\n",
    "        print('----------------------')\n",
    "        print(\"Manufactured:\", self.year)\n",
    "        print(\"Product name:\", self.name)\n",
    "        print(\"Price:\", self.price)\n",
    "        print(\"Sale Price:\", self.dc)"
   ]
  },
  {
   "cell_type": "code",
   "execution_count": 22,
   "metadata": {},
   "outputs": [
    {
     "name": "stdout",
     "output_type": "stream",
     "text": [
      "type of self: <class '__main__.Product'>\n",
      "----------------------\n",
      "Manufactured: 2019\n",
      "Product name: GalaxxyS10\n",
      "Price: 0\n",
      "Sale Price: 0\n",
      "----------------------\n",
      "Manufactured: 2020\n",
      "Product name: GalaxxyS11\n",
      "Price: 0\n",
      "Sale Price: 0\n"
     ]
    }
   ],
   "source": [
    "product1 = Product()\n",
    "product2 = Product()\n",
    "\n",
    "product1.setData1()\n",
    "product1.setData2(2019, \"GalaxxyS10\")\n",
    "product2.setData2(2020, \"GalaxxyS11\")\n",
    "\n",
    "product1.printData()\n",
    "product2.printData()"
   ]
  },
  {
   "cell_type": "code",
   "execution_count": 31,
   "metadata": {},
   "outputs": [],
   "source": [
    "class Nation:\n",
    "\n",
    "    # Constructor\n",
    "    def __init__(self, code='KOR'): \n",
    "        self.count = 0\n",
    "        self.code = code\n",
    "        print('instance on memory')\n",
    "\n",
    "    # Destructor    \n",
    "    def __del__(self):  \n",
    "        print('instnace off memory')\n",
    "\n",
    "    def getNation(self, code):\n",
    "        self.count = self.count + 1\n",
    "        \n",
    "        # local variable\n",
    "        str1 = \"\"  \n",
    "        \n",
    "        if code == \"KO\":\n",
    "            str1 = \"Korean\"\n",
    "        elif code == \"JA\":\n",
    "            str1 = \"Japanese\"\n",
    "        elif code == \"EN\":\n",
    "            str1 = \"English\"\n",
    "        \n",
    "        return str1\n"
   ]
  },
  {
   "cell_type": "code",
   "execution_count": 32,
   "metadata": {},
   "outputs": [
    {
     "name": "stdout",
     "output_type": "stream",
     "text": [
      "instance on memory\n",
      "instnace off memory\n",
      "instance on memory\n",
      "instnace off memory\n",
      "KOR\n",
      "0\n",
      "Korean\n",
      "\n",
      "instance on memory\n",
      "instnace off memory\n",
      "instance on memory\n",
      "instnace off memory\n",
      "Japanese\n",
      "English\n"
     ]
    }
   ],
   "source": [
    "# init\n",
    "nation1 = Nation()\n",
    "# del -> init\n",
    "nation1 = Nation() \n",
    "\n",
    "print(nation1.code)\n",
    "print(nation1.count)\n",
    "print(nation1.getNation(\"KO\"))\n",
    "print(nation1.getNation(nation1.code))\n",
    "\n",
    "nation2 = Nation(\"JA\")\n",
    "nation3 = Nation(\"EN\")\n",
    "\n",
    "print(nation2.getNation(nation2.code))\n",
    "print(nation3.getNation(nation3.code))\n"
   ]
  }
 ],
 "metadata": {
  "kernelspec": {
   "display_name": "Python 3",
   "language": "python",
   "name": "python3"
  },
  "language_info": {
   "codemirror_mode": {
    "name": "ipython",
    "version": 3
   },
   "file_extension": ".py",
   "mimetype": "text/x-python",
   "name": "python",
   "nbconvert_exporter": "python",
   "pygments_lexer": "ipython3",
   "version": "3.6.4"
  }
 },
 "nbformat": 4,
 "nbformat_minor": 2
}
