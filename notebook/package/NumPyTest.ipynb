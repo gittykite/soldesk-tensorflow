{
 "cells": [
  {
   "cell_type": "code",
   "execution_count": 72,
   "metadata": {},
   "outputs": [
    {
     "data": {
      "application/javascript": [
       "IPython.notebook.set_autosave_interval(0)"
      ]
     },
     "metadata": {},
     "output_type": "display_data"
    },
    {
     "name": "stdout",
     "output_type": "stream",
     "text": [
      "Autosave disabled\n"
     ]
    }
   ],
   "source": [
    "import warnings\n",
    "warnings.filterwarnings(action='ignore')\n",
    "\n",
    "import pandas as pd\n",
    "import numpy as np\n",
    "import matplotlib\n",
    "import matplotlib.pyplot as plt\n",
    "from matplotlib import font_manager, rc\n",
    "\n",
    "# set autosave: 0=off, 1=save by every 1 sec\n",
    "%autosave 0\n",
    "\n",
    "%matplotlib inline  "
   ]
  },
  {
   "cell_type": "code",
   "execution_count": 22,
   "metadata": {},
   "outputs": [
    {
     "name": "stdout",
     "output_type": "stream",
     "text": [
      "[1 2 3]\n",
      "<class 'numpy.ndarray'>\n",
      "(3,)\n",
      "[5 7 9]\n"
     ]
    }
   ],
   "source": [
    "# tensor (1-dimension array)\n",
    "x = np.array([1, 2, 3])\n",
    "y = np.array([4, 5, 6])\n",
    "\n",
    "print(x)\n",
    "print(type(x))\n",
    "print(x.shape)\n",
    "\n",
    "print(x + y)"
   ]
  },
  {
   "cell_type": "code",
   "execution_count": 12,
   "metadata": {},
   "outputs": [
    {
     "name": "stdout",
     "output_type": "stream",
     "text": [
      "[1, 2, 3, 4, 5]\n",
      "<class 'list'>\n",
      "[0 1 2 3 4]\n",
      "<class 'numpy.ndarray'>\n"
     ]
    }
   ],
   "source": [
    "# list\n",
    "li1 = [1, 2, 3, 4, 5]\n",
    "print(li1)\n",
    "print(type(li1))\n",
    "\n",
    "# ndarray\n",
    "a1 = np.arange(5)\n",
    "print(a1)\n",
    "print(type(a1))"
   ]
  },
  {
   "cell_type": "code",
   "execution_count": 14,
   "metadata": {},
   "outputs": [
    {
     "name": "stdout",
     "output_type": "stream",
     "text": [
      "[0 1 2 3 4 5 6 7 8 9]\n",
      "[5 6 7 8 9]\n",
      "[1 3 5 7 9]\n"
     ]
    }
   ],
   "source": [
    "a1 = np.arange(10)\n",
    "print(a1)\n",
    "\n",
    "a1 = np.arange(5, 10)\n",
    "print(a1)\n",
    "\n",
    "# from=1, to=10, stepby=2 \n",
    "a1 = np.arange(1, 10, 2) \n",
    "print(a1)"
   ]
  },
  {
   "cell_type": "code",
   "execution_count": 19,
   "metadata": {},
   "outputs": [
    {
     "name": "stdout",
     "output_type": "stream",
     "text": [
      "index=0\n",
      "value=100\n",
      "index=1\n",
      "value=200\n",
      "index=2\n",
      "value=300\n"
     ]
    }
   ],
   "source": [
    "data = np.array([100, 200, 300])\n",
    "for i in np.arange(len(data)):\n",
    "    print('index=%d' % i)\n",
    "    print('value=%d' % data[i])"
   ]
  },
  {
   "cell_type": "code",
   "execution_count": 23,
   "metadata": {},
   "outputs": [
    {
     "name": "stdout",
     "output_type": "stream",
     "text": [
      "[0. 0. 0. 0. 0. 0. 0. 0. 0. 0.]\n",
      "<class 'numpy.ndarray'>\n"
     ]
    }
   ],
   "source": [
    "z1 = np.zeros(10)\n",
    "\n",
    "print(z1)\n",
    "print(type(z1))"
   ]
  },
  {
   "cell_type": "code",
   "execution_count": 26,
   "metadata": {},
   "outputs": [
    {
     "name": "stdout",
     "output_type": "stream",
     "text": [
      "[[0. 0. 0. 0. 0. 0. 0. 0. 0. 0.]\n",
      " [0. 0. 0. 0. 0. 0. 0. 0. 0. 0.]\n",
      " [0. 0. 0. 0. 0. 0. 0. 0. 0. 0.]\n",
      " [0. 0. 0. 0. 0. 0. 0. 0. 0. 0.]\n",
      " [0. 0. 0. 0. 0. 0. 0. 0. 0. 0.]]\n"
     ]
    }
   ],
   "source": [
    "# rows=5, cols=10\n",
    "z2 = np.zeros((5, 10))\n",
    "print(z2)"
   ]
  },
  {
   "cell_type": "code",
   "execution_count": 32,
   "metadata": {},
   "outputs": [
    {
     "name": "stdout",
     "output_type": "stream",
     "text": [
      "[[0.  0.  0.  ... 0.  0.  0. ]\n",
      " [0.  0.  0.  ... 0.  0.1 0. ]\n",
      " [0.  0.  0.  ... 0.2 0.  0. ]\n",
      " ...\n",
      " [0.  0.  9.7 ... 0.  0.  0. ]\n",
      " [0.  9.8 0.  ... 0.  0.  0. ]\n",
      " [9.9 0.  0.  ... 0.  0.  0. ]]\n"
     ]
    },
    {
     "data": {
      "image/png": "[encoded data removed]",
      "text/plain": [
       "<Figure size 432x288 with 2 Axes>"
      ]
     },
     "metadata": {
      "needs_background": "light"
     },
     "output_type": "display_data"
    }
   ],
   "source": [
    "y = np.zeros((100, 100))  \n",
    "for i in range(0, 100, 1): \n",
    "    for j in range(99, -1, -1): \n",
    "        if (i == (99-j)):\n",
    "            y[i, j] = 1 * (i * 0.1)\n",
    "print(y)   \n",
    "\n",
    "# 0-black, 1: white\n",
    "plt.pcolor(y)\n",
    "plt.colorbar()\n",
    "plt.show()"
   ]
  },
  {
   "cell_type": "code",
   "execution_count": 71,
   "metadata": {},
   "outputs": [
    {
     "name": "stdout",
     "output_type": "stream",
     "text": [
      "[[0.69646919 0.28613933 0.22685145]\n",
      " [0.55131477 0.71946897 0.42310646]]\n",
      "----------------\n",
      "[0 1 0 1 0 1 1 0 0]\n",
      "[[0 3 1 3 2]\n",
      " [1 0 0 0 0]]\n",
      "----------------\n",
      "[[-0.91948541  2.02837484  0.23634688 -0.46335828 -1.73197305 -0.61783601\n",
      "   1.7104376  -0.05634082 -1.06029955 -1.82207837]\n",
      " [-1.21117645  1.48492015  0.74102732  0.71157801  0.29822755  0.46437133\n",
      "   0.11822163  1.94369786  2.42320729 -1.26530807]]\n",
      "[[8.45453413e-01 4.11430450e+00 5.58598479e-02 2.14700892e-01\n",
      "  2.99973066e+00 3.81721333e-01 2.92559678e+00 3.17428785e-03\n",
      "  1.12423513e+00 3.31996959e+00]\n",
      " [1.46694839e+00 2.20498785e+00 5.49121492e-01 5.06343261e-01\n",
      "  8.89396704e-02 2.15640730e-01 1.39763546e-02 3.77796139e+00\n",
      "  5.87193356e+00 1.60100451e+00]]\n"
     ]
    },
    {
     "data": {
      "image/png": "[encoded data removed]",
      "text/plain": [
       "<Figure size 432x288 with 1 Axes>"
      ]
     },
     "metadata": {
      "needs_background": "light"
     },
     "output_type": "display_data"
    },
    {
     "name": "stdout",
     "output_type": "stream",
     "text": [
      "[[1.30254945 1.49730879 1.68326291 1.91669867 1.10892895]\n",
      " [1.49549179 1.23283593 1.43686066 1.75154299 1.48089213]]\n"
     ]
    }
   ],
   "source": [
    "# fix random function result\n",
    "np.random.seed(123)\n",
    "\n",
    "# rand(): random num between 0~1\n",
    "print(np.random.rand(2,3)) \n",
    "print('----------------')\n",
    "\n",
    "# randint(): random int => 0 ~ max_int\n",
    "print(np.random.randint(2, size=(9)))\n",
    "print(np.random.randint(4, size=(2, 5)))\n",
    "print('----------------')\n",
    "\n",
    "# randn(): random num in normal distribution\n",
    "x = np.random.randn(2, 10)\n",
    "y = x * x\n",
    "print(x)\n",
    "print(y)\n",
    "\n",
    "plt.scatter(x, y)\n",
    "plt.grid(True)\n",
    "plt.show()\n",
    "\n",
    "# uniform(): random num in unifrom distribution\n",
    "# low, high, num of items\n",
    "a = np.random.uniform(1, 2, (2, 5)) \n",
    "print(a)"
   ]
  },
  {
   "cell_type": "code",
   "execution_count": 75,
   "metadata": {},
   "outputs": [
    {
     "name": "stdout",
     "output_type": "stream",
     "text": [
      "v: (2, 3)\n",
      "h: (3, 2)\n",
      "[[1 2 3]\n",
      " [4 5 6]]\n",
      "[[10 10]\n",
      " [20 20]\n",
      " [30 30]]\n",
      "----------------\n",
      "[[140 140]\n",
      " [320 320]]\n",
      "140\n",
      "320\n"
     ]
    }
   ],
   "source": [
    "# multiply array\n",
    "v = np.array([[1, 2, 3], [4, 5, 6]])\n",
    "h = np.array([[10, 10], [20, 20], [30, 30]]) \n",
    "\n",
    "print('v:', v.shape)\n",
    "print('h:', h.shape)\n",
    "print(v)\n",
    "print(h)\n",
    "print('----------------')\n",
    "\n",
    "# print(v * h)  => ERROR\n",
    "print(v.dot(h)) \n",
    "\n",
    "print( 1 * 10 + 2 * 20 + 3 * 30) \n",
    "print( 4 * 10 + 5 * 20 + 6 * 30) "
   ]
  }
 ],
 "metadata": {
  "kernelspec": {
   "display_name": "machine",
   "language": "python",
   "name": "machine"
  },
  "language_info": {
   "codemirror_mode": {
    "name": "ipython",
    "version": 3
   },
   "file_extension": ".py",
   "mimetype": "text/x-python",
   "name": "python",
   "nbconvert_exporter": "python",
   "pygments_lexer": "ipython3",
   "version": "3.6.9"
  }
 },
 "nbformat": 4,
 "nbformat_minor": 2
}
