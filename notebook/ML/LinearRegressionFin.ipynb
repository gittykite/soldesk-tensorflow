{
 "cells": [
  {
   "cell_type": "code",
   "execution_count": 2,
   "metadata": {},
   "outputs": [],
   "source": [
    "import pandas as pd\n",
    "import numpy as np\n",
    "import matplotlib\n",
    "import matplotlib.pyplot as plt\n",
    "\n",
    "%matplotlib inline "
   ]
  },
  {
   "cell_type": "code",
   "execution_count": 3,
   "metadata": {},
   "outputs": [
    {
     "name": "stdout",
     "output_type": "stream",
     "text": [
      "[ 1  2  3  4  5  6  7  8  9 10]\n",
      "[ 2  4  6  8 10 12 14 16 18 20]\n",
      "[-1.5666989  -1.21854359 -0.87038828 -0.52223297 -0.17407766  0.17407766\n",
      "  0.52223297  0.87038828  1.21854359  1.5666989 ]\n"
     ]
    }
   ],
   "source": [
    "from random import *\n",
    "\n",
    "train_x = np.array([i+1 for i in range(10)])\n",
    "print(train_x)\n",
    "train_y = np.array([i * 2 for i in train_x])\n",
    "print(train_y)\n",
    "\n",
    "def standardize(x):\n",
    "    m = x.mean()  # average\n",
    "    std = x.std() # standard deviation\n",
    "    \n",
    "    return (x - m) / std\n",
    "train_z = standardize(train_x)\n",
    "print(train_z)"
   ]
  },
  {
   "cell_type": "code",
   "execution_count": 4,
   "metadata": {},
   "outputs": [],
   "source": [
    "class Node:\n",
    "    def __init__(self):\n",
    "        np.random.seed(0)\n",
    "        self.w = np.random.randn(1)[0] \n",
    "        self.b = np.random.randn(1)[0]\n",
    "        \n",
    "    def forpass(self, x):\n",
    "        # Regression Equation: y = ax + b\n",
    "        y_hat = x * self.w + self.b \n",
    "        return y_hat\n",
    "    \n",
    "    def backprop(self, x, err):\n",
    "        # w(=angle), (y - y^) * x, err = actual_val - predicted_val\n",
    "        w_grad = err * x \n",
    "        b_grad = err     # y 절편, (y - y^)\n",
    "        return w_grad, b_grad\n",
    "    \n",
    "    # epochs: times of learning, x: data, y: actual_value\n",
    "    def fit(self, x, y, epochs=1): \n",
    "        for i in range(epochs):\n",
    "            for x_i, y_i in zip(x, y): # data & actual_val combination\n",
    "                y_hat = self.forpass(x_i) \n",
    "\n",
    "                # reduce error\n",
    "                err = -(y_i - y_hat) # err = actual_val - predicted_val\n",
    "                w_grad, b_grad = self.backprop(x_i, err) \n",
    "                \n",
    "                self.w = self.w - w_grad  # update weight\n",
    "                self.b = self.b - b_grad  # update constant  \n",
    "                \n",
    "                fmt = 'err: {0:.3f}, self.w: {1:.3f}, self.b: {2:.3f}'\n",
    "                print(fmt.format(err, self.w, self.b))"
   ]
  },
  {
   "cell_type": "code",
   "execution_count": 9,
   "metadata": {},
   "outputs": [
    {
     "name": "stdout",
     "output_type": "stream",
     "text": [
      "err: -4.364, self.w: -5.072, self.b: 4.764\n",
      "err: 6.945, self.w: 3.390, self.b: -2.181\n",
      "err: -11.131, self.w: -6.299, self.b: 8.951\n",
      "err: 4.240, self.w: -4.084, self.b: 4.711\n",
      "err: -4.578, self.w: -4.881, self.b: 9.289\n",
      "err: -3.561, self.w: -4.262, self.b: 12.850\n",
      "err: -3.376, self.w: -2.499, self.b: 16.226\n",
      "err: -1.949, self.w: -0.802, self.b: 18.175\n",
      "err: -0.803, self.w: 0.176, self.b: 18.977\n",
      "err: -0.747, self.w: 1.346, self.b: 19.724\n",
      "prediction:\n",
      "-1.5666989036012806 -> 17.61508708176769\n",
      "1.5666989036012806 -> 21.833851525250246\n"
     ]
    },
    {
     "data": {
      "image/png": "[encoded data removed]",
      "text/plain": [
       "<Figure size 432x288 with 1 Axes>"
      ]
     },
     "metadata": {
      "needs_background": "light"
     },
     "output_type": "display_data"
    }
   ],
   "source": [
    "node = Node()\n",
    "node.fit(train_z, train_y)\n",
    "\n",
    "# max & min data\n",
    "startx = np.min(train_z) \n",
    "endx = np.max(train_z)    \n",
    "# use learned model\n",
    "starty = startx * node.w + node.b \n",
    "endy = endx * node.w + node.b     \n",
    "\n",
    "print('prediction:')\n",
    "print(startx, '->', starty)\n",
    "print(endx, '->', endy)\n",
    "\n",
    "plt.scatter(train_z, train_y)\n",
    "plt.plot([startx, endx], [starty, endy], color='red') \n",
    "plt.show()"
   ]
  }
 ],
 "metadata": {
  "kernelspec": {
   "display_name": "machine",
   "language": "python",
   "name": "machine"
  },
  "language_info": {
   "codemirror_mode": {
    "name": "ipython",
    "version": 3
   },
   "file_extension": ".py",
   "mimetype": "text/x-python",
   "name": "python",
   "nbconvert_exporter": "python",
   "pygments_lexer": "ipython3",
   "version": "3.6.9"
  }
 },
 "nbformat": 4,
 "nbformat_minor": 2
}
