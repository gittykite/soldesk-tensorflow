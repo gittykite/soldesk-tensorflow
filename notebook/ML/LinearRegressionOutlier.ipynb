{
 "cells": [
  {
   "cell_type": "code",
   "execution_count": 1,
   "metadata": {},
   "outputs": [],
   "source": [
    "import pandas as pd\n",
    "import numpy as np\n",
    "import matplotlib\n",
    "import matplotlib.pyplot as plt\n",
    "\n",
    "%matplotlib inline  \n"
   ]
  },
  {
   "cell_type": "code",
   "execution_count": 3,
   "metadata": {},
   "outputs": [
    {
     "name": "stdout",
     "output_type": "stream",
     "text": [
      "<class 'numpy.ndarray'>\n",
      "[ 1  2  3  4  5  6  7  8  9 10 11 12 13 14 15 16 17]\n",
      "[ 8.  7.  6.  7.  6.  4.  4.  6.  8. 10. 12. 14. 16. 18. 20. 22. 20.]\n",
      "[-1.63299316 -1.42886902 -1.22474487 -1.02062073 -0.81649658 -0.61237244\n",
      " -0.40824829 -0.20412415  0.          0.20412415  0.40824829  0.61237244\n",
      "  0.81649658  1.02062073  1.22474487  1.42886902  1.63299316]\n"
     ]
    }
   ],
   "source": [
    "train_x = np.array([i + 1 for i in range(17)]) # 1 ~ 10\n",
    "train_y = np.array([4,3.5,3,3.5,3,2,2,3,4,5,6,7,8,9,10,11,10])\n",
    "train_y = np.array([i * 2 for i in train_y])\n",
    "print(type(train_y))\n",
    "\n",
    "print(train_x)\n",
    "print(train_y)\n",
    "\n",
    "m = train_x.mean()\n",
    "std = train_x.std()\n",
    "def standardize(x):\n",
    "    return (x - m) / std \n",
    "train_z = standardize(train_x)\n",
    "print(train_z)\n",
    " "
   ]
  },
  {
   "cell_type": "code",
   "execution_count": 5,
   "metadata": {},
   "outputs": [
    {
     "data": {
      "image/png": "[encoded data removed]",
      "text/plain": [
       "<Figure size 432x288 with 1 Axes>"
      ]
     },
     "metadata": {
      "needs_background": "light"
     },
     "output_type": "display_data"
    }
   ],
   "source": [
    "plt.scatter(train_x, train_y)\n",
    "plt.show()"
   ]
  }
 ],
 "metadata": {
  "kernelspec": {
   "display_name": "machine",
   "language": "python",
   "name": "machine"
  },
  "language_info": {
   "codemirror_mode": {
    "name": "ipython",
    "version": 3
   },
   "file_extension": ".py",
   "mimetype": "text/x-python",
   "name": "python",
   "nbconvert_exporter": "python",
   "pygments_lexer": "ipython3",
   "version": "3.6.9"
  }
 },
 "nbformat": 4,
 "nbformat_minor": 2
}
