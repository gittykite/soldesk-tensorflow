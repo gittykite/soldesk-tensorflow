{
 "cells": [
  {
   "cell_type": "code",
   "execution_count": 25,
   "metadata": {},
   "outputs": [],
   "source": [
    "import pandas as pd\n",
    "import numpy as np\n",
    "import matplotlib\n",
    "import matplotlib.pyplot as plt\n",
    "\n",
    "%matplotlib inline  "
   ]
  },
  {
   "cell_type": "code",
   "execution_count": 26,
   "metadata": {},
   "outputs": [
    {
     "data": {
      "image/png": "[encoded data removed]",
      "text/plain": [
       "<Figure size 432x288 with 1 Axes>"
      ]
     },
     "metadata": {
      "needs_background": "light"
     },
     "output_type": "display_data"
    }
   ],
   "source": [
    "# read csv => ndarray\n",
    "train = np.loadtxt('click.csv', delimiter=',', dtype='int', skiprows=1)\n",
    "\n",
    "train_x = train[:, 0] \n",
    "train_y = train[:, 1] \n",
    "\n",
    "plt.plot(train_x, train_y, 'o')\n",
    "plt.xlabel('AD Cost')\n",
    "plt.ylabel('Clicks')\n",
    "plt.show()"
   ]
  },
  {
   "cell_type": "code",
   "execution_count": 27,
   "metadata": {},
   "outputs": [
    {
     "name": "stdout",
     "output_type": "stream",
     "text": [
      "[ 1.39433428  1.11069026  0.09554325 -1.59139223 -0.8449606   0.93154667\n",
      " -1.38239138 -1.74067856  0.46875906  0.73747445 -0.11345761 -0.63595975\n",
      " -0.36724436 -0.44188752  0.3045441   1.94669369  0.25975821  0.25975821\n",
      " -1.23310505  0.84197488]\n"
     ]
    }
   ],
   "source": [
    "# standardization\n",
    "train_z = (train_x - np.mean(train_x)) / np.std(train_x)\n",
    "print(train_z)\n",
    "\n",
    "a = np.random.randn(1)[0]\n",
    "b = np.random.randn(1)[0]\n",
    "\n",
    "ETA = 0.01\n",
    "errDiff = 1 \n",
    "cnt = 0 \n",
    "\n",
    "def f(x):\n",
    "    return a * x + b\n",
    "\n",
    "def E(x, y):\n",
    "    err = (y - f(x)) ** 2\n",
    "    return np.sum(err) / 2 "
   ]
  },
  {
   "cell_type": "code",
   "execution_count": 28,
   "metadata": {},
   "outputs": [
    {
     "name": "stdout",
     "output_type": "stream",
     "text": [
      "cnt:1,  a:18.575, b:85.971, errDiff: 694024.630\n",
      "cnt:2,  a:33.556, b:154.607, errDiff: 444175.763\n",
      "cnt:3,  a:45.540, b:209.516, errDiff: 284272.489\n",
      "cnt:4,  a:55.128, b:253.443, errDiff: 181934.393\n",
      "cnt:5,  a:62.798, b:288.584, errDiff: 116438.011\n",
      "cnt:6,  a:68.934, b:316.697, errDiff: 74520.327\n",
      "cnt:7,  a:73.843, b:339.188, errDiff: 47693.009\n",
      "cnt:8,  a:77.770, b:357.180, errDiff: 30523.526\n",
      "cnt:9,  a:80.912, b:371.574, errDiff: 19535.057\n",
      "cnt:10,  a:83.425, b:383.089, errDiff: 12502.436\n",
      "cnt:11,  a:85.436, b:392.301, errDiff: 8001.559\n",
      "cnt:12,  a:87.045, b:399.671, errDiff: 5120.998\n",
      "cnt:13,  a:88.331, b:405.567, errDiff: 3277.439\n",
      "cnt:14,  a:89.361, b:410.284, errDiff: 2097.561\n",
      "cnt:15,  a:90.184, b:414.057, errDiff: 1342.439\n",
      "cnt:16,  a:90.843, b:417.075, errDiff: 859.161\n",
      "cnt:17,  a:91.370, b:419.490, errDiff: 549.863\n",
      "cnt:18,  a:91.792, b:421.422, errDiff: 351.912\n",
      "cnt:19,  a:92.129, b:422.968, errDiff: 225.224\n",
      "cnt:20,  a:92.399, b:424.204, errDiff: 144.143\n",
      "cnt:21,  a:92.615, b:425.193, errDiff: 92.252\n",
      "cnt:22,  a:92.788, b:425.985, errDiff: 59.041\n",
      "cnt:23,  a:92.926, b:426.618, errDiff: 37.786\n",
      "cnt:24,  a:93.037, b:427.124, errDiff: 24.183\n",
      "cnt:25,  a:93.125, b:427.529, errDiff: 15.477\n",
      "cnt:26,  a:93.196, b:427.854, errDiff: 9.905\n",
      "cnt:27,  a:93.252, b:428.113, errDiff: 6.339\n",
      "cnt:28,  a:93.298, b:428.320, errDiff: 4.057\n",
      "cnt:29,  a:93.334, b:428.486, errDiff: 2.597\n",
      "cnt:30,  a:93.363, b:428.619, errDiff: 1.662\n",
      "cnt:31,  a:93.386, b:428.725, errDiff: 1.064\n",
      "cnt:32,  a:93.405, b:428.810, errDiff: 0.681\n",
      "cnt:33,  a:93.419, b:428.878, errDiff: 0.436\n",
      "cnt:34,  a:93.431, b:428.932, errDiff: 0.279\n",
      "cnt:35,  a:93.441, b:428.976, errDiff: 0.178\n",
      "cnt:36,  a:93.448, b:429.011, errDiff: 0.114\n",
      "cnt:37,  a:93.454, b:429.039, errDiff: 0.073\n",
      "cnt:38,  a:93.459, b:429.061, errDiff: 0.047\n",
      "cnt:39,  a:93.463, b:429.079, errDiff: 0.030\n",
      "cnt:40,  a:93.466, b:429.093, errDiff: 0.019\n",
      "cnt:41,  a:93.469, b:429.104, errDiff: 0.012\n",
      "cnt:42,  a:93.471, b:429.114, errDiff: 0.008\n"
     ]
    }
   ],
   "source": [
    "e = E(train_z, train_y)\n",
    "while errDiff > 0.01: \n",
    "    # y^ = ax + b\n",
    "    # w - (-(y - y^) * x)   =>  w + (( y - y^) * x)\n",
    "    a_one = ETA * np.sum(((train_y - f(train_z)) * train_z)) # derivative 미분 ???\n",
    "    a += a_one\n",
    "    \n",
    "    # b - (-(y - y^) * 1)   =>  b + (( y - y^) * 1)\n",
    "    b_one = ETA * np.sum((train_y - f(train_z)) * 1)\n",
    "    b += b_one\n",
    "    \n",
    "    errModified = E(train_z, train_y) \n",
    "    errDiff = e - errModified\n",
    "    e = errModified         \n",
    "    cnt += 1         \n",
    "    \n",
    "    fmt = 'cnt:{0},  a:{1:.3f}, b:{2:.3f}, errDiff:{3: .3f}'\n",
    "    print(fmt.format(cnt, a, b, errDiff))\n",
    "    "
   ]
  },
  {
   "cell_type": "code",
   "execution_count": 29,
   "metadata": {},
   "outputs": [
    {
     "data": {
      "image/png": "[encoded data removed]",
      "text/plain": [
       "<Figure size 432x288 with 1 Axes>"
      ]
     },
     "metadata": {
      "needs_background": "light"
     },
     "output_type": "display_data"
    }
   ],
   "source": [
    "minx = np.min(train_z)\n",
    "maxx = np.max(train_z)\n",
    "miny = f(minx)\n",
    "maxy = f(maxx)\n",
    "\n",
    "plt.plot(train_x, train_y, 'o')\n",
    "plt.plot((minx, miny), (maxx, maxy))\n",
    "plt.title('f(x) = {0:.3f} * X + {1:.3f}'.format(a, b))\n",
    "plt.xlabel('AD Cost')\n",
    "plt.ylabel('Clicks')\n",
    "plt.show()"
   ]
  }
 ],
 "metadata": {
  "kernelspec": {
   "display_name": "machine",
   "language": "python",
   "name": "machine"
  },
  "language_info": {
   "codemirror_mode": {
    "name": "ipython",
    "version": 3
   },
   "file_extension": ".py",
   "mimetype": "text/x-python",
   "name": "python",
   "nbconvert_exporter": "python",
   "pygments_lexer": "ipython3",
   "version": "3.6.9"
  }
 },
 "nbformat": 4,
 "nbformat_minor": 2
}
