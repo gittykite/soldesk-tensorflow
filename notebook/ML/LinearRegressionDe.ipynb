{
 "cells": [
  {
   "cell_type": "code",
   "execution_count": 1,
   "metadata": {},
   "outputs": [],
   "source": [
    "import pandas as pd\n",
    "import numpy as np\n",
    "import matplotlib\n",
    "import matplotlib.pyplot as plt\n",
    "import copy, random\n",
    "\n",
    "%matplotlib inline  "
   ]
  },
  {
   "cell_type": "code",
   "execution_count": 6,
   "metadata": {},
   "outputs": [
    {
     "name": "stdout",
     "output_type": "stream",
     "text": [
      "[ 1  2  3  4  5  6  7  8  9 10]\n"
     ]
    },
    {
     "ename": "TypeError",
     "evalue": "Required argument 'object' (pos 1) not found",
     "output_type": "error",
     "traceback": [
      "\u001b[1;31m---------------------------------------------------------------------------\u001b[0m",
      "\u001b[1;31mTypeError\u001b[0m                                 Traceback (most recent call last)",
      "\u001b[1;32m<ipython-input-6-c755a5d4ba3d>\u001b[0m in \u001b[0;36m<module>\u001b[1;34m\u001b[0m\n\u001b[0;32m     11\u001b[0m     \u001b[1;32mreturn\u001b[0m \u001b[1;33m(\u001b[0m\u001b[0mx\u001b[0m \u001b[1;33m-\u001b[0m \u001b[0mm\u001b[0m\u001b[1;33m)\u001b[0m \u001b[1;33m/\u001b[0m \u001b[0mstd\u001b[0m\u001b[1;33m\u001b[0m\u001b[1;33m\u001b[0m\u001b[0m\n\u001b[0;32m     12\u001b[0m \u001b[1;33m\u001b[0m\u001b[0m\n\u001b[1;32m---> 13\u001b[1;33m \u001b[0mtrain_y\u001b[0m \u001b[1;33m=\u001b[0m \u001b[0mnp\u001b[0m\u001b[1;33m.\u001b[0m\u001b[0marray\u001b[0m\u001b[1;33m(\u001b[0m\u001b[1;33m)\u001b[0m\u001b[1;33m\u001b[0m\u001b[1;33m\u001b[0m\u001b[0m\n\u001b[0m\u001b[0;32m     14\u001b[0m \u001b[0mtrain_z\u001b[0m \u001b[1;33m=\u001b[0m \u001b[0mstandardize\u001b[0m\u001b[1;33m(\u001b[0m\u001b[0mtrain_x\u001b[0m\u001b[1;33m)\u001b[0m\u001b[1;33m\u001b[0m\u001b[1;33m\u001b[0m\u001b[0m\n\u001b[0;32m     15\u001b[0m \u001b[1;33m\u001b[0m\u001b[0m\n",
      "\u001b[1;31mTypeError\u001b[0m: Required argument 'object' (pos 1) not found"
     ]
    }
   ],
   "source": [
    "train_x = np.array([i + 1 for i in range(10)])\n",
    "print(train_x)\n",
    "\n",
    "# average\n",
    "m = train_x.mean()\n",
    "\n",
    "# standard deviation\n",
    "std = train_x.std()\n",
    "\n",
    "def standardize(x):\n",
    "    return (x - m) / std \n",
    "\n",
    "train_y = np.array([])\n",
    "train_z = standardize(train_x)\n",
    "\n",
    "plt.plot(train_x, train_y, color='black')\n",
    "plt.plot(train_z, train_y, color='blue')\n",
    "plt.grid(True)\n",
    "plt.show()"
   ]
  },
  {
   "cell_type": "code",
   "execution_count": 5,
   "metadata": {},
   "outputs": [],
   "source": [
    "class Node:\n",
    "    def __init__(self):\n",
    "        self.w = 1.0 \n",
    "        self.b = 1.0 \n",
    "        \n",
    "    def forpass(self, x):\n",
    "        y_hat = x * self.w + self.b # ax + b\n",
    "        return y_hat\n",
    "    \n",
    "    # w(angle), (y-y^) * x, err\n",
    "    # err= predict - actual\n",
    "    def backprop(self, x, err):\n",
    "        w_grad = err * x  # (y - y^) * x\n",
    "        b_grad = err      # (y - y^)\n",
    "        return w_grad, b_grad\n",
    "\n",
    "    # epochs: time of learning cycle\n",
    "    def fit(self, x, y, epochs=1): \n",
    "        for i in range(epochs):\n",
    "            for x_i, y_i in zip(x, y):\n",
    "                y_hat = self.forpass(x_i) \n",
    "                err = -(y_i - y_hat)\n",
    "                w_grad, b_grad = self.backprop(x_i, err)               \n",
    "             \n",
    "                # update weight a\n",
    "                self.w = self.w - w_grad\n",
    "                # update constant b\n",
    "                self.b = self.b - b_grad \n",
    "                \n",
    "                print('err = {0:.3f}'.format(err))\n",
    "                print('self.w = {0:.3f}, self.b = {1:.3f}'.format(self.w, self.b))"
   ]
  },
  {
   "cell_type": "code",
   "execution_count": null,
   "metadata": {},
   "outputs": [],
   "source": [
    "node = Node()\n",
    "node.fit(train_z, train_y)"
   ]
  }
 ],
 "metadata": {
  "kernelspec": {
   "display_name": "machine",
   "language": "python",
   "name": "machine"
  },
  "language_info": {
   "codemirror_mode": {
    "name": "ipython",
    "version": 3
   },
   "file_extension": ".py",
   "mimetype": "text/x-python",
   "name": "python",
   "nbconvert_exporter": "python",
   "pygments_lexer": "ipython3",
   "version": "3.6.9"
  }
 },
 "nbformat": 4,
 "nbformat_minor": 2
}
